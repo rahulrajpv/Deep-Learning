{
  "cells": [
    {
      "metadata": {
        "id": "og5VYNoXV51P"
      },
      "cell_type": "markdown",
      "source": [
        "## What are ANNs?\n",
        "\n",
        "![alt text](https://cdn-images-1.medium.com/max/1200/1*-teDpAIho_nzNShRswkfrQ.gif)\n",
        "\n",
        "An ANN is made of many interconnected \"**neurons**\".   \n",
        "\n",
        "Each neuron takes in some floating point numbers (e.g. 1.0, 0.5, -1.0) and multiplies them by some other floating point numbers (e.g. 0.7, 0.6, 1.4) known as **weights** (1.0 * 0.7 = 0.7, 0.5 * 0.6 = 0.3, -1.0 * 1.4 = -1.4).  The weights act as a mechanism to focus on, or ignore, certain inputs.  The weighted inputs then get summed together (e.g. 0.7 + 0.3 + -1.4 = -0.4) along with a **bias** value (e.g. -0.4 + ** -0.1 ** = -0.5).  \n",
        "\n",
        "The summed value (x) is now transformed into an output value (y) according to the neuron's **activation function**  (y = **f**(x)).  Some popular activation functions are shown below: \n",
        "\n",
        "![alt text](https://cdn-images-1.medium.com/max/1600/1*RD0lIYqB5L2LrI2VTIZqGw.png)\n",
        "\n",
        "e.g. -0.5 --> -0.05 if we use the **Leaky Rectified Linear Unit (Leaky ReLU)** activation function: y = f(x) = f(-0.5) = max(0.1*-0.5, -0.5) = max(-0.05, -0.5) = -0.05\n",
        "\n",
        "In larger ANNs with many layers, the neuron's output value (e.g. -0.05) would become the input for another neuron.\n",
        "\n",
        "![alt text](https://www.16bit.ai/static/img/loading.gif)\n",
        "\n",
        "![alt text](https://www.neuraldesigner.com/images/deep_neural_network.png)\n",
        "\n",
        "However, one of the first ANNs was known as the perceptron and it consisted of only a single neuron.  \n",
        "\n",
        "![alt text](https://cdn-images-1.medium.com/max/1600/1*_Zy1C83cnmYUdETCeQrOgA.png)\n",
        "\n",
        "The output of the perceptron's neuron acts as the final prediction. \n",
        "\n",
        "![alt text](https://cdn-images-1.medium.com/fit/t/1600/480/1*gpH4JC6Dqx_hIjrrcrq1Og.gif)\n",
        "\n",
        "This means that each neuron is a linear binary classifier all on its own (e.g. an output value >= 0 would be the blue class, but an output value < 0 would be the red class)\n",
        "\n"
      ]
    },
    {
      "cell_type": "markdown",
      "metadata": {
        "id": "9O7_yjlbXfQf"
      },
      "source": [
        "## **Data Preprocessing**"
      ]
    },
    {
      "cell_type": "code",
      "execution_count": null,
      "metadata": {
        "id": "Gbzb_Hg5XfQh",
        "outputId": "c44fce69-8936-48d4-d503-4f84477005e9"
      },
      "outputs": [
        {
          "name": "stderr",
          "output_type": "stream",
          "text": [
            "C:\\ProgramData\\Anaconda3\\lib\\site-packages\\numpy\\_distributor_init.py:32: UserWarning: loaded more than 1 DLL from .libs:\n",
            "C:\\ProgramData\\Anaconda3\\lib\\site-packages\\numpy\\.libs\\libopenblas.jpijnswnnan3ce6lli5fwsphut2vxmth.gfortran-win_amd64.dll\n",
            "C:\\ProgramData\\Anaconda3\\lib\\site-packages\\numpy\\.libs\\libopenblas.PYQHXLVVQ7VESDPUVUADXEVJOBGHJPAY.gfortran-win_amd64.dll\n",
            "C:\\ProgramData\\Anaconda3\\lib\\site-packages\\numpy\\.libs\\libopenblas.wcdjnk7yvmpzq2me2zzhjjrj3jikndb7.gfortran-win_amd64.dll\n",
            "C:\\ProgramData\\Anaconda3\\lib\\site-packages\\numpy\\.libs\\libopenblas.XWYDX2IKJW2NMTWSFYNGFUWKQU3LYTCZ.gfortran-win_amd64.dll\n",
            "  stacklevel=1)\n"
          ]
        }
      ],
      "source": [
        "import pandas as pd\n",
        "import numpy as np\n",
        "import matplotlib.pyplot as plt\n",
        "import seaborn as sns"
      ]
    },
    {
      "cell_type": "code",
      "execution_count": null,
      "metadata": {
        "id": "D2MYjQzPXfQi"
      },
      "outputs": [],
      "source": [
        "dataset=pd.read_csv(r\"D:\\Churn_Modelling.csv\")"
      ]
    },
    {
      "cell_type": "code",
      "execution_count": null,
      "metadata": {
        "scrolled": false,
        "id": "j_PA8Nt3XfQi",
        "outputId": "f9215ae5-1aef-41f7-e3d9-d7c881266b4b"
      },
      "outputs": [
        {
          "data": {
            "text/html": [
              "<div>\n",
              "<style scoped>\n",
              "    .dataframe tbody tr th:only-of-type {\n",
              "        vertical-align: middle;\n",
              "    }\n",
              "\n",
              "    .dataframe tbody tr th {\n",
              "        vertical-align: top;\n",
              "    }\n",
              "\n",
              "    .dataframe thead th {\n",
              "        text-align: right;\n",
              "    }\n",
              "</style>\n",
              "<table border=\"1\" class=\"dataframe\">\n",
              "  <thead>\n",
              "    <tr style=\"text-align: right;\">\n",
              "      <th></th>\n",
              "      <th>RowNumber</th>\n",
              "      <th>CustomerId</th>\n",
              "      <th>Surname</th>\n",
              "      <th>CreditScore</th>\n",
              "      <th>Geography</th>\n",
              "      <th>Gender</th>\n",
              "      <th>Age</th>\n",
              "      <th>Tenure</th>\n",
              "      <th>Balance</th>\n",
              "      <th>NumOfProducts</th>\n",
              "      <th>HasCrCard</th>\n",
              "      <th>IsActiveMember</th>\n",
              "      <th>EstimatedSalary</th>\n",
              "      <th>Exited</th>\n",
              "    </tr>\n",
              "  </thead>\n",
              "  <tbody>\n",
              "    <tr>\n",
              "      <th>0</th>\n",
              "      <td>1</td>\n",
              "      <td>15634602</td>\n",
              "      <td>Hargrave</td>\n",
              "      <td>619</td>\n",
              "      <td>France</td>\n",
              "      <td>Female</td>\n",
              "      <td>42</td>\n",
              "      <td>2</td>\n",
              "      <td>0.00</td>\n",
              "      <td>1</td>\n",
              "      <td>1</td>\n",
              "      <td>1</td>\n",
              "      <td>101348.88</td>\n",
              "      <td>1</td>\n",
              "    </tr>\n",
              "    <tr>\n",
              "      <th>1</th>\n",
              "      <td>2</td>\n",
              "      <td>15647311</td>\n",
              "      <td>Hill</td>\n",
              "      <td>608</td>\n",
              "      <td>Spain</td>\n",
              "      <td>Female</td>\n",
              "      <td>41</td>\n",
              "      <td>1</td>\n",
              "      <td>83807.86</td>\n",
              "      <td>1</td>\n",
              "      <td>0</td>\n",
              "      <td>1</td>\n",
              "      <td>112542.58</td>\n",
              "      <td>0</td>\n",
              "    </tr>\n",
              "    <tr>\n",
              "      <th>2</th>\n",
              "      <td>3</td>\n",
              "      <td>15619304</td>\n",
              "      <td>Onio</td>\n",
              "      <td>502</td>\n",
              "      <td>France</td>\n",
              "      <td>Female</td>\n",
              "      <td>42</td>\n",
              "      <td>8</td>\n",
              "      <td>159660.80</td>\n",
              "      <td>3</td>\n",
              "      <td>1</td>\n",
              "      <td>0</td>\n",
              "      <td>113931.57</td>\n",
              "      <td>1</td>\n",
              "    </tr>\n",
              "    <tr>\n",
              "      <th>3</th>\n",
              "      <td>4</td>\n",
              "      <td>15701354</td>\n",
              "      <td>Boni</td>\n",
              "      <td>699</td>\n",
              "      <td>France</td>\n",
              "      <td>Female</td>\n",
              "      <td>39</td>\n",
              "      <td>1</td>\n",
              "      <td>0.00</td>\n",
              "      <td>2</td>\n",
              "      <td>0</td>\n",
              "      <td>0</td>\n",
              "      <td>93826.63</td>\n",
              "      <td>0</td>\n",
              "    </tr>\n",
              "    <tr>\n",
              "      <th>4</th>\n",
              "      <td>5</td>\n",
              "      <td>15737888</td>\n",
              "      <td>Mitchell</td>\n",
              "      <td>850</td>\n",
              "      <td>Spain</td>\n",
              "      <td>Female</td>\n",
              "      <td>43</td>\n",
              "      <td>2</td>\n",
              "      <td>125510.82</td>\n",
              "      <td>1</td>\n",
              "      <td>1</td>\n",
              "      <td>1</td>\n",
              "      <td>79084.10</td>\n",
              "      <td>0</td>\n",
              "    </tr>\n",
              "    <tr>\n",
              "      <th>...</th>\n",
              "      <td>...</td>\n",
              "      <td>...</td>\n",
              "      <td>...</td>\n",
              "      <td>...</td>\n",
              "      <td>...</td>\n",
              "      <td>...</td>\n",
              "      <td>...</td>\n",
              "      <td>...</td>\n",
              "      <td>...</td>\n",
              "      <td>...</td>\n",
              "      <td>...</td>\n",
              "      <td>...</td>\n",
              "      <td>...</td>\n",
              "      <td>...</td>\n",
              "    </tr>\n",
              "    <tr>\n",
              "      <th>9995</th>\n",
              "      <td>9996</td>\n",
              "      <td>15606229</td>\n",
              "      <td>Obijiaku</td>\n",
              "      <td>771</td>\n",
              "      <td>France</td>\n",
              "      <td>Male</td>\n",
              "      <td>39</td>\n",
              "      <td>5</td>\n",
              "      <td>0.00</td>\n",
              "      <td>2</td>\n",
              "      <td>1</td>\n",
              "      <td>0</td>\n",
              "      <td>96270.64</td>\n",
              "      <td>0</td>\n",
              "    </tr>\n",
              "    <tr>\n",
              "      <th>9996</th>\n",
              "      <td>9997</td>\n",
              "      <td>15569892</td>\n",
              "      <td>Johnstone</td>\n",
              "      <td>516</td>\n",
              "      <td>France</td>\n",
              "      <td>Male</td>\n",
              "      <td>35</td>\n",
              "      <td>10</td>\n",
              "      <td>57369.61</td>\n",
              "      <td>1</td>\n",
              "      <td>1</td>\n",
              "      <td>1</td>\n",
              "      <td>101699.77</td>\n",
              "      <td>0</td>\n",
              "    </tr>\n",
              "    <tr>\n",
              "      <th>9997</th>\n",
              "      <td>9998</td>\n",
              "      <td>15584532</td>\n",
              "      <td>Liu</td>\n",
              "      <td>709</td>\n",
              "      <td>France</td>\n",
              "      <td>Female</td>\n",
              "      <td>36</td>\n",
              "      <td>7</td>\n",
              "      <td>0.00</td>\n",
              "      <td>1</td>\n",
              "      <td>0</td>\n",
              "      <td>1</td>\n",
              "      <td>42085.58</td>\n",
              "      <td>1</td>\n",
              "    </tr>\n",
              "    <tr>\n",
              "      <th>9998</th>\n",
              "      <td>9999</td>\n",
              "      <td>15682355</td>\n",
              "      <td>Sabbatini</td>\n",
              "      <td>772</td>\n",
              "      <td>Germany</td>\n",
              "      <td>Male</td>\n",
              "      <td>42</td>\n",
              "      <td>3</td>\n",
              "      <td>75075.31</td>\n",
              "      <td>2</td>\n",
              "      <td>1</td>\n",
              "      <td>0</td>\n",
              "      <td>92888.52</td>\n",
              "      <td>1</td>\n",
              "    </tr>\n",
              "    <tr>\n",
              "      <th>9999</th>\n",
              "      <td>10000</td>\n",
              "      <td>15628319</td>\n",
              "      <td>Walker</td>\n",
              "      <td>792</td>\n",
              "      <td>France</td>\n",
              "      <td>Female</td>\n",
              "      <td>28</td>\n",
              "      <td>4</td>\n",
              "      <td>130142.79</td>\n",
              "      <td>1</td>\n",
              "      <td>1</td>\n",
              "      <td>0</td>\n",
              "      <td>38190.78</td>\n",
              "      <td>0</td>\n",
              "    </tr>\n",
              "  </tbody>\n",
              "</table>\n",
              "<p>10000 rows × 14 columns</p>\n",
              "</div>"
            ],
            "text/plain": [
              "      RowNumber  CustomerId    Surname  CreditScore Geography  Gender  Age  \\\n",
              "0             1    15634602   Hargrave          619    France  Female   42   \n",
              "1             2    15647311       Hill          608     Spain  Female   41   \n",
              "2             3    15619304       Onio          502    France  Female   42   \n",
              "3             4    15701354       Boni          699    France  Female   39   \n",
              "4             5    15737888   Mitchell          850     Spain  Female   43   \n",
              "...         ...         ...        ...          ...       ...     ...  ...   \n",
              "9995       9996    15606229   Obijiaku          771    France    Male   39   \n",
              "9996       9997    15569892  Johnstone          516    France    Male   35   \n",
              "9997       9998    15584532        Liu          709    France  Female   36   \n",
              "9998       9999    15682355  Sabbatini          772   Germany    Male   42   \n",
              "9999      10000    15628319     Walker          792    France  Female   28   \n",
              "\n",
              "      Tenure    Balance  NumOfProducts  HasCrCard  IsActiveMember  \\\n",
              "0          2       0.00              1          1               1   \n",
              "1          1   83807.86              1          0               1   \n",
              "2          8  159660.80              3          1               0   \n",
              "3          1       0.00              2          0               0   \n",
              "4          2  125510.82              1          1               1   \n",
              "...      ...        ...            ...        ...             ...   \n",
              "9995       5       0.00              2          1               0   \n",
              "9996      10   57369.61              1          1               1   \n",
              "9997       7       0.00              1          0               1   \n",
              "9998       3   75075.31              2          1               0   \n",
              "9999       4  130142.79              1          1               0   \n",
              "\n",
              "      EstimatedSalary  Exited  \n",
              "0           101348.88       1  \n",
              "1           112542.58       0  \n",
              "2           113931.57       1  \n",
              "3            93826.63       0  \n",
              "4            79084.10       0  \n",
              "...               ...     ...  \n",
              "9995         96270.64       0  \n",
              "9996        101699.77       0  \n",
              "9997         42085.58       1  \n",
              "9998         92888.52       1  \n",
              "9999         38190.78       0  \n",
              "\n",
              "[10000 rows x 14 columns]"
            ]
          },
          "execution_count": 3,
          "metadata": {},
          "output_type": "execute_result"
        }
      ],
      "source": [
        "dataset"
      ]
    },
    {
      "cell_type": "code",
      "execution_count": null,
      "metadata": {
        "id": "PMaiitBDXfQj",
        "outputId": "25841833-6801-4be3-fa29-e0894948d45b"
      },
      "outputs": [
        {
          "data": {
            "text/plain": [
              "10000"
            ]
          },
          "execution_count": 4,
          "metadata": {},
          "output_type": "execute_result"
        }
      ],
      "source": [
        "dataset[\"CustomerId\"].nunique()#All customers are unique"
      ]
    },
    {
      "cell_type": "code",
      "execution_count": null,
      "metadata": {
        "scrolled": true,
        "id": "CDOOT_bMXfQj",
        "outputId": "eb6c3f19-894b-4c1c-efa3-0d842f2e35cb"
      },
      "outputs": [
        {
          "data": {
            "text/plain": [
              "(10000, 14)"
            ]
          },
          "execution_count": 5,
          "metadata": {},
          "output_type": "execute_result"
        }
      ],
      "source": [
        "dataset.shape"
      ]
    },
    {
      "cell_type": "markdown",
      "metadata": {
        "id": "U79WjipwXfQj"
      },
      "source": [
        "### Missing Values"
      ]
    },
    {
      "cell_type": "code",
      "execution_count": null,
      "metadata": {
        "id": "5qDTxiJ4XfQj",
        "outputId": "22623549-4268-4659-9d83-05b5d122f28d"
      },
      "outputs": [
        {
          "data": {
            "text/plain": [
              "RowNumber          False\n",
              "CustomerId         False\n",
              "Surname            False\n",
              "CreditScore        False\n",
              "Geography          False\n",
              "Gender             False\n",
              "Age                False\n",
              "Tenure             False\n",
              "Balance            False\n",
              "NumOfProducts      False\n",
              "HasCrCard          False\n",
              "IsActiveMember     False\n",
              "EstimatedSalary    False\n",
              "Exited             False\n",
              "dtype: bool"
            ]
          },
          "execution_count": 6,
          "metadata": {},
          "output_type": "execute_result"
        }
      ],
      "source": [
        "dataset.isnull().any()"
      ]
    },
    {
      "cell_type": "code",
      "execution_count": null,
      "metadata": {
        "id": "eAWhd0QUXfQk",
        "outputId": "d5517005-54eb-4ddb-b587-affad9b8f889"
      },
      "outputs": [
        {
          "data": {
            "text/html": [
              "<div>\n",
              "<style scoped>\n",
              "    .dataframe tbody tr th:only-of-type {\n",
              "        vertical-align: middle;\n",
              "    }\n",
              "\n",
              "    .dataframe tbody tr th {\n",
              "        vertical-align: top;\n",
              "    }\n",
              "\n",
              "    .dataframe thead th {\n",
              "        text-align: right;\n",
              "    }\n",
              "</style>\n",
              "<table border=\"1\" class=\"dataframe\">\n",
              "  <thead>\n",
              "    <tr style=\"text-align: right;\">\n",
              "      <th></th>\n",
              "      <th>RowNumber</th>\n",
              "      <th>CustomerId</th>\n",
              "      <th>Surname</th>\n",
              "      <th>CreditScore</th>\n",
              "      <th>Geography</th>\n",
              "      <th>Gender</th>\n",
              "      <th>Age</th>\n",
              "      <th>Tenure</th>\n",
              "      <th>Balance</th>\n",
              "      <th>NumOfProducts</th>\n",
              "      <th>HasCrCard</th>\n",
              "      <th>IsActiveMember</th>\n",
              "      <th>EstimatedSalary</th>\n",
              "      <th>Exited</th>\n",
              "    </tr>\n",
              "  </thead>\n",
              "  <tbody>\n",
              "    <tr>\n",
              "      <th>0</th>\n",
              "      <td>1</td>\n",
              "      <td>15634602</td>\n",
              "      <td>Hargrave</td>\n",
              "      <td>619</td>\n",
              "      <td>France</td>\n",
              "      <td>Female</td>\n",
              "      <td>42</td>\n",
              "      <td>2</td>\n",
              "      <td>0.00</td>\n",
              "      <td>1</td>\n",
              "      <td>1</td>\n",
              "      <td>1</td>\n",
              "      <td>101348.88</td>\n",
              "      <td>1</td>\n",
              "    </tr>\n",
              "    <tr>\n",
              "      <th>1</th>\n",
              "      <td>2</td>\n",
              "      <td>15647311</td>\n",
              "      <td>Hill</td>\n",
              "      <td>608</td>\n",
              "      <td>Spain</td>\n",
              "      <td>Female</td>\n",
              "      <td>41</td>\n",
              "      <td>1</td>\n",
              "      <td>83807.86</td>\n",
              "      <td>1</td>\n",
              "      <td>0</td>\n",
              "      <td>1</td>\n",
              "      <td>112542.58</td>\n",
              "      <td>0</td>\n",
              "    </tr>\n",
              "    <tr>\n",
              "      <th>2</th>\n",
              "      <td>3</td>\n",
              "      <td>15619304</td>\n",
              "      <td>Onio</td>\n",
              "      <td>502</td>\n",
              "      <td>France</td>\n",
              "      <td>Female</td>\n",
              "      <td>42</td>\n",
              "      <td>8</td>\n",
              "      <td>159660.80</td>\n",
              "      <td>3</td>\n",
              "      <td>1</td>\n",
              "      <td>0</td>\n",
              "      <td>113931.57</td>\n",
              "      <td>1</td>\n",
              "    </tr>\n",
              "    <tr>\n",
              "      <th>3</th>\n",
              "      <td>4</td>\n",
              "      <td>15701354</td>\n",
              "      <td>Boni</td>\n",
              "      <td>699</td>\n",
              "      <td>France</td>\n",
              "      <td>Female</td>\n",
              "      <td>39</td>\n",
              "      <td>1</td>\n",
              "      <td>0.00</td>\n",
              "      <td>2</td>\n",
              "      <td>0</td>\n",
              "      <td>0</td>\n",
              "      <td>93826.63</td>\n",
              "      <td>0</td>\n",
              "    </tr>\n",
              "    <tr>\n",
              "      <th>4</th>\n",
              "      <td>5</td>\n",
              "      <td>15737888</td>\n",
              "      <td>Mitchell</td>\n",
              "      <td>850</td>\n",
              "      <td>Spain</td>\n",
              "      <td>Female</td>\n",
              "      <td>43</td>\n",
              "      <td>2</td>\n",
              "      <td>125510.82</td>\n",
              "      <td>1</td>\n",
              "      <td>1</td>\n",
              "      <td>1</td>\n",
              "      <td>79084.10</td>\n",
              "      <td>0</td>\n",
              "    </tr>\n",
              "    <tr>\n",
              "      <th>...</th>\n",
              "      <td>...</td>\n",
              "      <td>...</td>\n",
              "      <td>...</td>\n",
              "      <td>...</td>\n",
              "      <td>...</td>\n",
              "      <td>...</td>\n",
              "      <td>...</td>\n",
              "      <td>...</td>\n",
              "      <td>...</td>\n",
              "      <td>...</td>\n",
              "      <td>...</td>\n",
              "      <td>...</td>\n",
              "      <td>...</td>\n",
              "      <td>...</td>\n",
              "    </tr>\n",
              "    <tr>\n",
              "      <th>9995</th>\n",
              "      <td>9996</td>\n",
              "      <td>15606229</td>\n",
              "      <td>Obijiaku</td>\n",
              "      <td>771</td>\n",
              "      <td>France</td>\n",
              "      <td>Male</td>\n",
              "      <td>39</td>\n",
              "      <td>5</td>\n",
              "      <td>0.00</td>\n",
              "      <td>2</td>\n",
              "      <td>1</td>\n",
              "      <td>0</td>\n",
              "      <td>96270.64</td>\n",
              "      <td>0</td>\n",
              "    </tr>\n",
              "    <tr>\n",
              "      <th>9996</th>\n",
              "      <td>9997</td>\n",
              "      <td>15569892</td>\n",
              "      <td>Johnstone</td>\n",
              "      <td>516</td>\n",
              "      <td>France</td>\n",
              "      <td>Male</td>\n",
              "      <td>35</td>\n",
              "      <td>10</td>\n",
              "      <td>57369.61</td>\n",
              "      <td>1</td>\n",
              "      <td>1</td>\n",
              "      <td>1</td>\n",
              "      <td>101699.77</td>\n",
              "      <td>0</td>\n",
              "    </tr>\n",
              "    <tr>\n",
              "      <th>9997</th>\n",
              "      <td>9998</td>\n",
              "      <td>15584532</td>\n",
              "      <td>Liu</td>\n",
              "      <td>709</td>\n",
              "      <td>France</td>\n",
              "      <td>Female</td>\n",
              "      <td>36</td>\n",
              "      <td>7</td>\n",
              "      <td>0.00</td>\n",
              "      <td>1</td>\n",
              "      <td>0</td>\n",
              "      <td>1</td>\n",
              "      <td>42085.58</td>\n",
              "      <td>1</td>\n",
              "    </tr>\n",
              "    <tr>\n",
              "      <th>9998</th>\n",
              "      <td>9999</td>\n",
              "      <td>15682355</td>\n",
              "      <td>Sabbatini</td>\n",
              "      <td>772</td>\n",
              "      <td>Germany</td>\n",
              "      <td>Male</td>\n",
              "      <td>42</td>\n",
              "      <td>3</td>\n",
              "      <td>75075.31</td>\n",
              "      <td>2</td>\n",
              "      <td>1</td>\n",
              "      <td>0</td>\n",
              "      <td>92888.52</td>\n",
              "      <td>1</td>\n",
              "    </tr>\n",
              "    <tr>\n",
              "      <th>9999</th>\n",
              "      <td>10000</td>\n",
              "      <td>15628319</td>\n",
              "      <td>Walker</td>\n",
              "      <td>792</td>\n",
              "      <td>France</td>\n",
              "      <td>Female</td>\n",
              "      <td>28</td>\n",
              "      <td>4</td>\n",
              "      <td>130142.79</td>\n",
              "      <td>1</td>\n",
              "      <td>1</td>\n",
              "      <td>0</td>\n",
              "      <td>38190.78</td>\n",
              "      <td>0</td>\n",
              "    </tr>\n",
              "  </tbody>\n",
              "</table>\n",
              "<p>10000 rows × 14 columns</p>\n",
              "</div>"
            ],
            "text/plain": [
              "      RowNumber  CustomerId    Surname  CreditScore Geography  Gender  Age  \\\n",
              "0             1    15634602   Hargrave          619    France  Female   42   \n",
              "1             2    15647311       Hill          608     Spain  Female   41   \n",
              "2             3    15619304       Onio          502    France  Female   42   \n",
              "3             4    15701354       Boni          699    France  Female   39   \n",
              "4             5    15737888   Mitchell          850     Spain  Female   43   \n",
              "...         ...         ...        ...          ...       ...     ...  ...   \n",
              "9995       9996    15606229   Obijiaku          771    France    Male   39   \n",
              "9996       9997    15569892  Johnstone          516    France    Male   35   \n",
              "9997       9998    15584532        Liu          709    France  Female   36   \n",
              "9998       9999    15682355  Sabbatini          772   Germany    Male   42   \n",
              "9999      10000    15628319     Walker          792    France  Female   28   \n",
              "\n",
              "      Tenure    Balance  NumOfProducts  HasCrCard  IsActiveMember  \\\n",
              "0          2       0.00              1          1               1   \n",
              "1          1   83807.86              1          0               1   \n",
              "2          8  159660.80              3          1               0   \n",
              "3          1       0.00              2          0               0   \n",
              "4          2  125510.82              1          1               1   \n",
              "...      ...        ...            ...        ...             ...   \n",
              "9995       5       0.00              2          1               0   \n",
              "9996      10   57369.61              1          1               1   \n",
              "9997       7       0.00              1          0               1   \n",
              "9998       3   75075.31              2          1               0   \n",
              "9999       4  130142.79              1          1               0   \n",
              "\n",
              "      EstimatedSalary  Exited  \n",
              "0           101348.88       1  \n",
              "1           112542.58       0  \n",
              "2           113931.57       1  \n",
              "3            93826.63       0  \n",
              "4            79084.10       0  \n",
              "...               ...     ...  \n",
              "9995         96270.64       0  \n",
              "9996        101699.77       0  \n",
              "9997         42085.58       1  \n",
              "9998         92888.52       1  \n",
              "9999         38190.78       0  \n",
              "\n",
              "[10000 rows x 14 columns]"
            ]
          },
          "execution_count": 7,
          "metadata": {},
          "output_type": "execute_result"
        }
      ],
      "source": [
        "dataset"
      ]
    },
    {
      "cell_type": "code",
      "execution_count": null,
      "metadata": {
        "id": "YJMXc_LLXfQk"
      },
      "outputs": [],
      "source": [
        "dataset.drop([\"RowNumber\",\"CustomerId\",\"Surname\"], axis = 1, inplace = True)"
      ]
    },
    {
      "cell_type": "code",
      "execution_count": null,
      "metadata": {
        "id": "ofNFFlsUXfQk",
        "outputId": "edac1870-340b-4656-9510-f378652c16af"
      },
      "outputs": [
        {
          "data": {
            "text/html": [
              "<div>\n",
              "<style scoped>\n",
              "    .dataframe tbody tr th:only-of-type {\n",
              "        vertical-align: middle;\n",
              "    }\n",
              "\n",
              "    .dataframe tbody tr th {\n",
              "        vertical-align: top;\n",
              "    }\n",
              "\n",
              "    .dataframe thead th {\n",
              "        text-align: right;\n",
              "    }\n",
              "</style>\n",
              "<table border=\"1\" class=\"dataframe\">\n",
              "  <thead>\n",
              "    <tr style=\"text-align: right;\">\n",
              "      <th></th>\n",
              "      <th>CreditScore</th>\n",
              "      <th>Geography</th>\n",
              "      <th>Gender</th>\n",
              "      <th>Age</th>\n",
              "      <th>Tenure</th>\n",
              "      <th>Balance</th>\n",
              "      <th>NumOfProducts</th>\n",
              "      <th>HasCrCard</th>\n",
              "      <th>IsActiveMember</th>\n",
              "      <th>EstimatedSalary</th>\n",
              "      <th>Exited</th>\n",
              "    </tr>\n",
              "  </thead>\n",
              "  <tbody>\n",
              "    <tr>\n",
              "      <th>0</th>\n",
              "      <td>619</td>\n",
              "      <td>France</td>\n",
              "      <td>Female</td>\n",
              "      <td>42</td>\n",
              "      <td>2</td>\n",
              "      <td>0.00</td>\n",
              "      <td>1</td>\n",
              "      <td>1</td>\n",
              "      <td>1</td>\n",
              "      <td>101348.88</td>\n",
              "      <td>1</td>\n",
              "    </tr>\n",
              "    <tr>\n",
              "      <th>1</th>\n",
              "      <td>608</td>\n",
              "      <td>Spain</td>\n",
              "      <td>Female</td>\n",
              "      <td>41</td>\n",
              "      <td>1</td>\n",
              "      <td>83807.86</td>\n",
              "      <td>1</td>\n",
              "      <td>0</td>\n",
              "      <td>1</td>\n",
              "      <td>112542.58</td>\n",
              "      <td>0</td>\n",
              "    </tr>\n",
              "    <tr>\n",
              "      <th>2</th>\n",
              "      <td>502</td>\n",
              "      <td>France</td>\n",
              "      <td>Female</td>\n",
              "      <td>42</td>\n",
              "      <td>8</td>\n",
              "      <td>159660.80</td>\n",
              "      <td>3</td>\n",
              "      <td>1</td>\n",
              "      <td>0</td>\n",
              "      <td>113931.57</td>\n",
              "      <td>1</td>\n",
              "    </tr>\n",
              "    <tr>\n",
              "      <th>3</th>\n",
              "      <td>699</td>\n",
              "      <td>France</td>\n",
              "      <td>Female</td>\n",
              "      <td>39</td>\n",
              "      <td>1</td>\n",
              "      <td>0.00</td>\n",
              "      <td>2</td>\n",
              "      <td>0</td>\n",
              "      <td>0</td>\n",
              "      <td>93826.63</td>\n",
              "      <td>0</td>\n",
              "    </tr>\n",
              "    <tr>\n",
              "      <th>4</th>\n",
              "      <td>850</td>\n",
              "      <td>Spain</td>\n",
              "      <td>Female</td>\n",
              "      <td>43</td>\n",
              "      <td>2</td>\n",
              "      <td>125510.82</td>\n",
              "      <td>1</td>\n",
              "      <td>1</td>\n",
              "      <td>1</td>\n",
              "      <td>79084.10</td>\n",
              "      <td>0</td>\n",
              "    </tr>\n",
              "    <tr>\n",
              "      <th>...</th>\n",
              "      <td>...</td>\n",
              "      <td>...</td>\n",
              "      <td>...</td>\n",
              "      <td>...</td>\n",
              "      <td>...</td>\n",
              "      <td>...</td>\n",
              "      <td>...</td>\n",
              "      <td>...</td>\n",
              "      <td>...</td>\n",
              "      <td>...</td>\n",
              "      <td>...</td>\n",
              "    </tr>\n",
              "    <tr>\n",
              "      <th>9995</th>\n",
              "      <td>771</td>\n",
              "      <td>France</td>\n",
              "      <td>Male</td>\n",
              "      <td>39</td>\n",
              "      <td>5</td>\n",
              "      <td>0.00</td>\n",
              "      <td>2</td>\n",
              "      <td>1</td>\n",
              "      <td>0</td>\n",
              "      <td>96270.64</td>\n",
              "      <td>0</td>\n",
              "    </tr>\n",
              "    <tr>\n",
              "      <th>9996</th>\n",
              "      <td>516</td>\n",
              "      <td>France</td>\n",
              "      <td>Male</td>\n",
              "      <td>35</td>\n",
              "      <td>10</td>\n",
              "      <td>57369.61</td>\n",
              "      <td>1</td>\n",
              "      <td>1</td>\n",
              "      <td>1</td>\n",
              "      <td>101699.77</td>\n",
              "      <td>0</td>\n",
              "    </tr>\n",
              "    <tr>\n",
              "      <th>9997</th>\n",
              "      <td>709</td>\n",
              "      <td>France</td>\n",
              "      <td>Female</td>\n",
              "      <td>36</td>\n",
              "      <td>7</td>\n",
              "      <td>0.00</td>\n",
              "      <td>1</td>\n",
              "      <td>0</td>\n",
              "      <td>1</td>\n",
              "      <td>42085.58</td>\n",
              "      <td>1</td>\n",
              "    </tr>\n",
              "    <tr>\n",
              "      <th>9998</th>\n",
              "      <td>772</td>\n",
              "      <td>Germany</td>\n",
              "      <td>Male</td>\n",
              "      <td>42</td>\n",
              "      <td>3</td>\n",
              "      <td>75075.31</td>\n",
              "      <td>2</td>\n",
              "      <td>1</td>\n",
              "      <td>0</td>\n",
              "      <td>92888.52</td>\n",
              "      <td>1</td>\n",
              "    </tr>\n",
              "    <tr>\n",
              "      <th>9999</th>\n",
              "      <td>792</td>\n",
              "      <td>France</td>\n",
              "      <td>Female</td>\n",
              "      <td>28</td>\n",
              "      <td>4</td>\n",
              "      <td>130142.79</td>\n",
              "      <td>1</td>\n",
              "      <td>1</td>\n",
              "      <td>0</td>\n",
              "      <td>38190.78</td>\n",
              "      <td>0</td>\n",
              "    </tr>\n",
              "  </tbody>\n",
              "</table>\n",
              "<p>10000 rows × 11 columns</p>\n",
              "</div>"
            ],
            "text/plain": [
              "      CreditScore Geography  Gender  Age  Tenure    Balance  NumOfProducts  \\\n",
              "0             619    France  Female   42       2       0.00              1   \n",
              "1             608     Spain  Female   41       1   83807.86              1   \n",
              "2             502    France  Female   42       8  159660.80              3   \n",
              "3             699    France  Female   39       1       0.00              2   \n",
              "4             850     Spain  Female   43       2  125510.82              1   \n",
              "...           ...       ...     ...  ...     ...        ...            ...   \n",
              "9995          771    France    Male   39       5       0.00              2   \n",
              "9996          516    France    Male   35      10   57369.61              1   \n",
              "9997          709    France  Female   36       7       0.00              1   \n",
              "9998          772   Germany    Male   42       3   75075.31              2   \n",
              "9999          792    France  Female   28       4  130142.79              1   \n",
              "\n",
              "      HasCrCard  IsActiveMember  EstimatedSalary  Exited  \n",
              "0             1               1        101348.88       1  \n",
              "1             0               1        112542.58       0  \n",
              "2             1               0        113931.57       1  \n",
              "3             0               0         93826.63       0  \n",
              "4             1               1         79084.10       0  \n",
              "...         ...             ...              ...     ...  \n",
              "9995          1               0         96270.64       0  \n",
              "9996          1               1        101699.77       0  \n",
              "9997          0               1         42085.58       1  \n",
              "9998          1               0         92888.52       1  \n",
              "9999          1               0         38190.78       0  \n",
              "\n",
              "[10000 rows x 11 columns]"
            ]
          },
          "execution_count": 9,
          "metadata": {},
          "output_type": "execute_result"
        }
      ],
      "source": [
        "dataset"
      ]
    },
    {
      "cell_type": "code",
      "execution_count": null,
      "metadata": {
        "id": "gfbvkT7zXfQk",
        "outputId": "9eab1bf2-0a5d-46de-d6eb-dbd1004e6a7d"
      },
      "outputs": [
        {
          "data": {
            "text/plain": [
              "array(['France', 'Spain', 'Germany'], dtype=object)"
            ]
          },
          "execution_count": 10,
          "metadata": {},
          "output_type": "execute_result"
        }
      ],
      "source": [
        "dataset[\"Geography\"].unique()#Nominal"
      ]
    },
    {
      "cell_type": "code",
      "execution_count": null,
      "metadata": {
        "id": "Jc4vG27yXfQl",
        "outputId": "9c1a492d-b103-4afe-be6f-546d49c99570"
      },
      "outputs": [
        {
          "data": {
            "text/plain": [
              "array(['Female', 'Male'], dtype=object)"
            ]
          },
          "execution_count": 11,
          "metadata": {},
          "output_type": "execute_result"
        }
      ],
      "source": [
        "dataset[\"Gender\"].unique()#Nominal"
      ]
    },
    {
      "cell_type": "markdown",
      "metadata": {
        "id": "99Mv0fyGXfQl"
      },
      "source": [
        "### One Hot Encoding"
      ]
    },
    {
      "cell_type": "code",
      "execution_count": null,
      "metadata": {
        "id": "UL0urwOrXfQl"
      },
      "outputs": [],
      "source": [
        "dataset = pd.get_dummies(dataset,columns=[\"Geography\",\"Gender\"],drop_first=True)"
      ]
    },
    {
      "cell_type": "code",
      "execution_count": null,
      "metadata": {
        "scrolled": false,
        "id": "GaacECzDXfQl",
        "outputId": "8b2dbf31-0cf2-47de-a044-3b926dd50f3c"
      },
      "outputs": [
        {
          "data": {
            "text/html": [
              "<div>\n",
              "<style scoped>\n",
              "    .dataframe tbody tr th:only-of-type {\n",
              "        vertical-align: middle;\n",
              "    }\n",
              "\n",
              "    .dataframe tbody tr th {\n",
              "        vertical-align: top;\n",
              "    }\n",
              "\n",
              "    .dataframe thead th {\n",
              "        text-align: right;\n",
              "    }\n",
              "</style>\n",
              "<table border=\"1\" class=\"dataframe\">\n",
              "  <thead>\n",
              "    <tr style=\"text-align: right;\">\n",
              "      <th></th>\n",
              "      <th>CreditScore</th>\n",
              "      <th>Age</th>\n",
              "      <th>Tenure</th>\n",
              "      <th>Balance</th>\n",
              "      <th>NumOfProducts</th>\n",
              "      <th>HasCrCard</th>\n",
              "      <th>IsActiveMember</th>\n",
              "      <th>EstimatedSalary</th>\n",
              "      <th>Exited</th>\n",
              "      <th>Geography_Germany</th>\n",
              "      <th>Geography_Spain</th>\n",
              "      <th>Gender_Male</th>\n",
              "    </tr>\n",
              "  </thead>\n",
              "  <tbody>\n",
              "    <tr>\n",
              "      <th>0</th>\n",
              "      <td>619</td>\n",
              "      <td>42</td>\n",
              "      <td>2</td>\n",
              "      <td>0.00</td>\n",
              "      <td>1</td>\n",
              "      <td>1</td>\n",
              "      <td>1</td>\n",
              "      <td>101348.88</td>\n",
              "      <td>1</td>\n",
              "      <td>0</td>\n",
              "      <td>0</td>\n",
              "      <td>0</td>\n",
              "    </tr>\n",
              "    <tr>\n",
              "      <th>1</th>\n",
              "      <td>608</td>\n",
              "      <td>41</td>\n",
              "      <td>1</td>\n",
              "      <td>83807.86</td>\n",
              "      <td>1</td>\n",
              "      <td>0</td>\n",
              "      <td>1</td>\n",
              "      <td>112542.58</td>\n",
              "      <td>0</td>\n",
              "      <td>0</td>\n",
              "      <td>1</td>\n",
              "      <td>0</td>\n",
              "    </tr>\n",
              "    <tr>\n",
              "      <th>2</th>\n",
              "      <td>502</td>\n",
              "      <td>42</td>\n",
              "      <td>8</td>\n",
              "      <td>159660.80</td>\n",
              "      <td>3</td>\n",
              "      <td>1</td>\n",
              "      <td>0</td>\n",
              "      <td>113931.57</td>\n",
              "      <td>1</td>\n",
              "      <td>0</td>\n",
              "      <td>0</td>\n",
              "      <td>0</td>\n",
              "    </tr>\n",
              "    <tr>\n",
              "      <th>3</th>\n",
              "      <td>699</td>\n",
              "      <td>39</td>\n",
              "      <td>1</td>\n",
              "      <td>0.00</td>\n",
              "      <td>2</td>\n",
              "      <td>0</td>\n",
              "      <td>0</td>\n",
              "      <td>93826.63</td>\n",
              "      <td>0</td>\n",
              "      <td>0</td>\n",
              "      <td>0</td>\n",
              "      <td>0</td>\n",
              "    </tr>\n",
              "    <tr>\n",
              "      <th>4</th>\n",
              "      <td>850</td>\n",
              "      <td>43</td>\n",
              "      <td>2</td>\n",
              "      <td>125510.82</td>\n",
              "      <td>1</td>\n",
              "      <td>1</td>\n",
              "      <td>1</td>\n",
              "      <td>79084.10</td>\n",
              "      <td>0</td>\n",
              "      <td>0</td>\n",
              "      <td>1</td>\n",
              "      <td>0</td>\n",
              "    </tr>\n",
              "    <tr>\n",
              "      <th>...</th>\n",
              "      <td>...</td>\n",
              "      <td>...</td>\n",
              "      <td>...</td>\n",
              "      <td>...</td>\n",
              "      <td>...</td>\n",
              "      <td>...</td>\n",
              "      <td>...</td>\n",
              "      <td>...</td>\n",
              "      <td>...</td>\n",
              "      <td>...</td>\n",
              "      <td>...</td>\n",
              "      <td>...</td>\n",
              "    </tr>\n",
              "    <tr>\n",
              "      <th>9995</th>\n",
              "      <td>771</td>\n",
              "      <td>39</td>\n",
              "      <td>5</td>\n",
              "      <td>0.00</td>\n",
              "      <td>2</td>\n",
              "      <td>1</td>\n",
              "      <td>0</td>\n",
              "      <td>96270.64</td>\n",
              "      <td>0</td>\n",
              "      <td>0</td>\n",
              "      <td>0</td>\n",
              "      <td>1</td>\n",
              "    </tr>\n",
              "    <tr>\n",
              "      <th>9996</th>\n",
              "      <td>516</td>\n",
              "      <td>35</td>\n",
              "      <td>10</td>\n",
              "      <td>57369.61</td>\n",
              "      <td>1</td>\n",
              "      <td>1</td>\n",
              "      <td>1</td>\n",
              "      <td>101699.77</td>\n",
              "      <td>0</td>\n",
              "      <td>0</td>\n",
              "      <td>0</td>\n",
              "      <td>1</td>\n",
              "    </tr>\n",
              "    <tr>\n",
              "      <th>9997</th>\n",
              "      <td>709</td>\n",
              "      <td>36</td>\n",
              "      <td>7</td>\n",
              "      <td>0.00</td>\n",
              "      <td>1</td>\n",
              "      <td>0</td>\n",
              "      <td>1</td>\n",
              "      <td>42085.58</td>\n",
              "      <td>1</td>\n",
              "      <td>0</td>\n",
              "      <td>0</td>\n",
              "      <td>0</td>\n",
              "    </tr>\n",
              "    <tr>\n",
              "      <th>9998</th>\n",
              "      <td>772</td>\n",
              "      <td>42</td>\n",
              "      <td>3</td>\n",
              "      <td>75075.31</td>\n",
              "      <td>2</td>\n",
              "      <td>1</td>\n",
              "      <td>0</td>\n",
              "      <td>92888.52</td>\n",
              "      <td>1</td>\n",
              "      <td>1</td>\n",
              "      <td>0</td>\n",
              "      <td>1</td>\n",
              "    </tr>\n",
              "    <tr>\n",
              "      <th>9999</th>\n",
              "      <td>792</td>\n",
              "      <td>28</td>\n",
              "      <td>4</td>\n",
              "      <td>130142.79</td>\n",
              "      <td>1</td>\n",
              "      <td>1</td>\n",
              "      <td>0</td>\n",
              "      <td>38190.78</td>\n",
              "      <td>0</td>\n",
              "      <td>0</td>\n",
              "      <td>0</td>\n",
              "      <td>0</td>\n",
              "    </tr>\n",
              "  </tbody>\n",
              "</table>\n",
              "<p>10000 rows × 12 columns</p>\n",
              "</div>"
            ],
            "text/plain": [
              "      CreditScore  Age  Tenure    Balance  NumOfProducts  HasCrCard  \\\n",
              "0             619   42       2       0.00              1          1   \n",
              "1             608   41       1   83807.86              1          0   \n",
              "2             502   42       8  159660.80              3          1   \n",
              "3             699   39       1       0.00              2          0   \n",
              "4             850   43       2  125510.82              1          1   \n",
              "...           ...  ...     ...        ...            ...        ...   \n",
              "9995          771   39       5       0.00              2          1   \n",
              "9996          516   35      10   57369.61              1          1   \n",
              "9997          709   36       7       0.00              1          0   \n",
              "9998          772   42       3   75075.31              2          1   \n",
              "9999          792   28       4  130142.79              1          1   \n",
              "\n",
              "      IsActiveMember  EstimatedSalary  Exited  Geography_Germany  \\\n",
              "0                  1        101348.88       1                  0   \n",
              "1                  1        112542.58       0                  0   \n",
              "2                  0        113931.57       1                  0   \n",
              "3                  0         93826.63       0                  0   \n",
              "4                  1         79084.10       0                  0   \n",
              "...              ...              ...     ...                ...   \n",
              "9995               0         96270.64       0                  0   \n",
              "9996               1        101699.77       0                  0   \n",
              "9997               1         42085.58       1                  0   \n",
              "9998               0         92888.52       1                  1   \n",
              "9999               0         38190.78       0                  0   \n",
              "\n",
              "      Geography_Spain  Gender_Male  \n",
              "0                   0            0  \n",
              "1                   1            0  \n",
              "2                   0            0  \n",
              "3                   0            0  \n",
              "4                   1            0  \n",
              "...               ...          ...  \n",
              "9995                0            1  \n",
              "9996                0            1  \n",
              "9997                0            0  \n",
              "9998                0            1  \n",
              "9999                0            0  \n",
              "\n",
              "[10000 rows x 12 columns]"
            ]
          },
          "execution_count": 13,
          "metadata": {},
          "output_type": "execute_result"
        }
      ],
      "source": [
        "dataset"
      ]
    },
    {
      "cell_type": "code",
      "execution_count": null,
      "metadata": {
        "id": "5RH0t2HhXfQm",
        "outputId": "195f1ac8-c783-4a65-ca79-e6772454ba5f"
      },
      "outputs": [
        {
          "data": {
            "text/plain": [
              "CreditScore            int64\n",
              "Age                    int64\n",
              "Tenure                 int64\n",
              "Balance              float64\n",
              "NumOfProducts          int64\n",
              "HasCrCard              int64\n",
              "IsActiveMember         int64\n",
              "EstimatedSalary      float64\n",
              "Exited                 int64\n",
              "Geography_Germany      uint8\n",
              "Geography_Spain        uint8\n",
              "Gender_Male            uint8\n",
              "dtype: object"
            ]
          },
          "execution_count": 14,
          "metadata": {},
          "output_type": "execute_result"
        }
      ],
      "source": [
        "dataset.dtypes"
      ]
    },
    {
      "cell_type": "markdown",
      "metadata": {
        "id": "MeA6pI2UXfQm"
      },
      "source": [
        "#### Split the Independent and Dependent variables"
      ]
    },
    {
      "cell_type": "code",
      "execution_count": null,
      "metadata": {
        "id": "QjRux1k1XfQm",
        "outputId": "e7b351b2-357b-4b4b-eabb-941815dbfcaa"
      },
      "outputs": [
        {
          "data": {
            "text/html": [
              "<div>\n",
              "<style scoped>\n",
              "    .dataframe tbody tr th:only-of-type {\n",
              "        vertical-align: middle;\n",
              "    }\n",
              "\n",
              "    .dataframe tbody tr th {\n",
              "        vertical-align: top;\n",
              "    }\n",
              "\n",
              "    .dataframe thead th {\n",
              "        text-align: right;\n",
              "    }\n",
              "</style>\n",
              "<table border=\"1\" class=\"dataframe\">\n",
              "  <thead>\n",
              "    <tr style=\"text-align: right;\">\n",
              "      <th></th>\n",
              "      <th>CreditScore</th>\n",
              "      <th>Age</th>\n",
              "      <th>Tenure</th>\n",
              "      <th>Balance</th>\n",
              "      <th>NumOfProducts</th>\n",
              "      <th>HasCrCard</th>\n",
              "      <th>IsActiveMember</th>\n",
              "      <th>EstimatedSalary</th>\n",
              "      <th>Exited</th>\n",
              "      <th>Geography_Germany</th>\n",
              "      <th>Geography_Spain</th>\n",
              "      <th>Gender_Male</th>\n",
              "    </tr>\n",
              "  </thead>\n",
              "  <tbody>\n",
              "    <tr>\n",
              "      <th>0</th>\n",
              "      <td>619</td>\n",
              "      <td>42</td>\n",
              "      <td>2</td>\n",
              "      <td>0.00</td>\n",
              "      <td>1</td>\n",
              "      <td>1</td>\n",
              "      <td>1</td>\n",
              "      <td>101348.88</td>\n",
              "      <td>1</td>\n",
              "      <td>0</td>\n",
              "      <td>0</td>\n",
              "      <td>0</td>\n",
              "    </tr>\n",
              "    <tr>\n",
              "      <th>1</th>\n",
              "      <td>608</td>\n",
              "      <td>41</td>\n",
              "      <td>1</td>\n",
              "      <td>83807.86</td>\n",
              "      <td>1</td>\n",
              "      <td>0</td>\n",
              "      <td>1</td>\n",
              "      <td>112542.58</td>\n",
              "      <td>0</td>\n",
              "      <td>0</td>\n",
              "      <td>1</td>\n",
              "      <td>0</td>\n",
              "    </tr>\n",
              "    <tr>\n",
              "      <th>2</th>\n",
              "      <td>502</td>\n",
              "      <td>42</td>\n",
              "      <td>8</td>\n",
              "      <td>159660.80</td>\n",
              "      <td>3</td>\n",
              "      <td>1</td>\n",
              "      <td>0</td>\n",
              "      <td>113931.57</td>\n",
              "      <td>1</td>\n",
              "      <td>0</td>\n",
              "      <td>0</td>\n",
              "      <td>0</td>\n",
              "    </tr>\n",
              "  </tbody>\n",
              "</table>\n",
              "</div>"
            ],
            "text/plain": [
              "   CreditScore  Age  Tenure    Balance  NumOfProducts  HasCrCard  \\\n",
              "0          619   42       2       0.00              1          1   \n",
              "1          608   41       1   83807.86              1          0   \n",
              "2          502   42       8  159660.80              3          1   \n",
              "\n",
              "   IsActiveMember  EstimatedSalary  Exited  Geography_Germany  \\\n",
              "0               1        101348.88       1                  0   \n",
              "1               1        112542.58       0                  0   \n",
              "2               0        113931.57       1                  0   \n",
              "\n",
              "   Geography_Spain  Gender_Male  \n",
              "0                0            0  \n",
              "1                1            0  \n",
              "2                0            0  "
            ]
          },
          "execution_count": 15,
          "metadata": {},
          "output_type": "execute_result"
        }
      ],
      "source": [
        "dataset.head(3)"
      ]
    },
    {
      "cell_type": "code",
      "execution_count": null,
      "metadata": {
        "id": "xmtWbSptXfQm"
      },
      "outputs": [],
      "source": [
        "#Independent variables\n",
        "x = dataset.drop(\"Exited\",axis = 1)"
      ]
    },
    {
      "cell_type": "code",
      "execution_count": null,
      "metadata": {
        "id": "SoF1nbxQXfQn",
        "outputId": "aa7a5e7b-d1fe-46f8-a3d2-845c87937128"
      },
      "outputs": [
        {
          "data": {
            "text/html": [
              "<div>\n",
              "<style scoped>\n",
              "    .dataframe tbody tr th:only-of-type {\n",
              "        vertical-align: middle;\n",
              "    }\n",
              "\n",
              "    .dataframe tbody tr th {\n",
              "        vertical-align: top;\n",
              "    }\n",
              "\n",
              "    .dataframe thead th {\n",
              "        text-align: right;\n",
              "    }\n",
              "</style>\n",
              "<table border=\"1\" class=\"dataframe\">\n",
              "  <thead>\n",
              "    <tr style=\"text-align: right;\">\n",
              "      <th></th>\n",
              "      <th>CreditScore</th>\n",
              "      <th>Age</th>\n",
              "      <th>Tenure</th>\n",
              "      <th>Balance</th>\n",
              "      <th>NumOfProducts</th>\n",
              "      <th>HasCrCard</th>\n",
              "      <th>IsActiveMember</th>\n",
              "      <th>EstimatedSalary</th>\n",
              "      <th>Geography_Germany</th>\n",
              "      <th>Geography_Spain</th>\n",
              "      <th>Gender_Male</th>\n",
              "    </tr>\n",
              "  </thead>\n",
              "  <tbody>\n",
              "    <tr>\n",
              "      <th>0</th>\n",
              "      <td>619</td>\n",
              "      <td>42</td>\n",
              "      <td>2</td>\n",
              "      <td>0.00</td>\n",
              "      <td>1</td>\n",
              "      <td>1</td>\n",
              "      <td>1</td>\n",
              "      <td>101348.88</td>\n",
              "      <td>0</td>\n",
              "      <td>0</td>\n",
              "      <td>0</td>\n",
              "    </tr>\n",
              "    <tr>\n",
              "      <th>1</th>\n",
              "      <td>608</td>\n",
              "      <td>41</td>\n",
              "      <td>1</td>\n",
              "      <td>83807.86</td>\n",
              "      <td>1</td>\n",
              "      <td>0</td>\n",
              "      <td>1</td>\n",
              "      <td>112542.58</td>\n",
              "      <td>0</td>\n",
              "      <td>1</td>\n",
              "      <td>0</td>\n",
              "    </tr>\n",
              "    <tr>\n",
              "      <th>2</th>\n",
              "      <td>502</td>\n",
              "      <td>42</td>\n",
              "      <td>8</td>\n",
              "      <td>159660.80</td>\n",
              "      <td>3</td>\n",
              "      <td>1</td>\n",
              "      <td>0</td>\n",
              "      <td>113931.57</td>\n",
              "      <td>0</td>\n",
              "      <td>0</td>\n",
              "      <td>0</td>\n",
              "    </tr>\n",
              "    <tr>\n",
              "      <th>3</th>\n",
              "      <td>699</td>\n",
              "      <td>39</td>\n",
              "      <td>1</td>\n",
              "      <td>0.00</td>\n",
              "      <td>2</td>\n",
              "      <td>0</td>\n",
              "      <td>0</td>\n",
              "      <td>93826.63</td>\n",
              "      <td>0</td>\n",
              "      <td>0</td>\n",
              "      <td>0</td>\n",
              "    </tr>\n",
              "    <tr>\n",
              "      <th>4</th>\n",
              "      <td>850</td>\n",
              "      <td>43</td>\n",
              "      <td>2</td>\n",
              "      <td>125510.82</td>\n",
              "      <td>1</td>\n",
              "      <td>1</td>\n",
              "      <td>1</td>\n",
              "      <td>79084.10</td>\n",
              "      <td>0</td>\n",
              "      <td>1</td>\n",
              "      <td>0</td>\n",
              "    </tr>\n",
              "    <tr>\n",
              "      <th>...</th>\n",
              "      <td>...</td>\n",
              "      <td>...</td>\n",
              "      <td>...</td>\n",
              "      <td>...</td>\n",
              "      <td>...</td>\n",
              "      <td>...</td>\n",
              "      <td>...</td>\n",
              "      <td>...</td>\n",
              "      <td>...</td>\n",
              "      <td>...</td>\n",
              "      <td>...</td>\n",
              "    </tr>\n",
              "    <tr>\n",
              "      <th>9995</th>\n",
              "      <td>771</td>\n",
              "      <td>39</td>\n",
              "      <td>5</td>\n",
              "      <td>0.00</td>\n",
              "      <td>2</td>\n",
              "      <td>1</td>\n",
              "      <td>0</td>\n",
              "      <td>96270.64</td>\n",
              "      <td>0</td>\n",
              "      <td>0</td>\n",
              "      <td>1</td>\n",
              "    </tr>\n",
              "    <tr>\n",
              "      <th>9996</th>\n",
              "      <td>516</td>\n",
              "      <td>35</td>\n",
              "      <td>10</td>\n",
              "      <td>57369.61</td>\n",
              "      <td>1</td>\n",
              "      <td>1</td>\n",
              "      <td>1</td>\n",
              "      <td>101699.77</td>\n",
              "      <td>0</td>\n",
              "      <td>0</td>\n",
              "      <td>1</td>\n",
              "    </tr>\n",
              "    <tr>\n",
              "      <th>9997</th>\n",
              "      <td>709</td>\n",
              "      <td>36</td>\n",
              "      <td>7</td>\n",
              "      <td>0.00</td>\n",
              "      <td>1</td>\n",
              "      <td>0</td>\n",
              "      <td>1</td>\n",
              "      <td>42085.58</td>\n",
              "      <td>0</td>\n",
              "      <td>0</td>\n",
              "      <td>0</td>\n",
              "    </tr>\n",
              "    <tr>\n",
              "      <th>9998</th>\n",
              "      <td>772</td>\n",
              "      <td>42</td>\n",
              "      <td>3</td>\n",
              "      <td>75075.31</td>\n",
              "      <td>2</td>\n",
              "      <td>1</td>\n",
              "      <td>0</td>\n",
              "      <td>92888.52</td>\n",
              "      <td>1</td>\n",
              "      <td>0</td>\n",
              "      <td>1</td>\n",
              "    </tr>\n",
              "    <tr>\n",
              "      <th>9999</th>\n",
              "      <td>792</td>\n",
              "      <td>28</td>\n",
              "      <td>4</td>\n",
              "      <td>130142.79</td>\n",
              "      <td>1</td>\n",
              "      <td>1</td>\n",
              "      <td>0</td>\n",
              "      <td>38190.78</td>\n",
              "      <td>0</td>\n",
              "      <td>0</td>\n",
              "      <td>0</td>\n",
              "    </tr>\n",
              "  </tbody>\n",
              "</table>\n",
              "<p>10000 rows × 11 columns</p>\n",
              "</div>"
            ],
            "text/plain": [
              "      CreditScore  Age  Tenure    Balance  NumOfProducts  HasCrCard  \\\n",
              "0             619   42       2       0.00              1          1   \n",
              "1             608   41       1   83807.86              1          0   \n",
              "2             502   42       8  159660.80              3          1   \n",
              "3             699   39       1       0.00              2          0   \n",
              "4             850   43       2  125510.82              1          1   \n",
              "...           ...  ...     ...        ...            ...        ...   \n",
              "9995          771   39       5       0.00              2          1   \n",
              "9996          516   35      10   57369.61              1          1   \n",
              "9997          709   36       7       0.00              1          0   \n",
              "9998          772   42       3   75075.31              2          1   \n",
              "9999          792   28       4  130142.79              1          1   \n",
              "\n",
              "      IsActiveMember  EstimatedSalary  Geography_Germany  Geography_Spain  \\\n",
              "0                  1        101348.88                  0                0   \n",
              "1                  1        112542.58                  0                1   \n",
              "2                  0        113931.57                  0                0   \n",
              "3                  0         93826.63                  0                0   \n",
              "4                  1         79084.10                  0                1   \n",
              "...              ...              ...                ...              ...   \n",
              "9995               0         96270.64                  0                0   \n",
              "9996               1        101699.77                  0                0   \n",
              "9997               1         42085.58                  0                0   \n",
              "9998               0         92888.52                  1                0   \n",
              "9999               0         38190.78                  0                0   \n",
              "\n",
              "      Gender_Male  \n",
              "0               0  \n",
              "1               0  \n",
              "2               0  \n",
              "3               0  \n",
              "4               0  \n",
              "...           ...  \n",
              "9995            1  \n",
              "9996            1  \n",
              "9997            0  \n",
              "9998            1  \n",
              "9999            0  \n",
              "\n",
              "[10000 rows x 11 columns]"
            ]
          },
          "execution_count": 17,
          "metadata": {},
          "output_type": "execute_result"
        }
      ],
      "source": [
        "x"
      ]
    },
    {
      "cell_type": "code",
      "execution_count": null,
      "metadata": {
        "id": "uVbmVdsmXfQn",
        "outputId": "394846c6-22d9-474a-a9cc-d7c44ec38b71"
      },
      "outputs": [
        {
          "data": {
            "text/plain": [
              "pandas.core.frame.DataFrame"
            ]
          },
          "execution_count": 18,
          "metadata": {},
          "output_type": "execute_result"
        }
      ],
      "source": [
        "type(x)"
      ]
    },
    {
      "cell_type": "code",
      "execution_count": null,
      "metadata": {
        "id": "22A8Z9yqXfQn",
        "outputId": "37451105-5d38-4795-8abc-d06b81cb7e5a"
      },
      "outputs": [
        {
          "data": {
            "text/plain": [
              "(10000, 11)"
            ]
          },
          "execution_count": 19,
          "metadata": {},
          "output_type": "execute_result"
        }
      ],
      "source": [
        "x.shape"
      ]
    },
    {
      "cell_type": "code",
      "execution_count": null,
      "metadata": {
        "id": "RxjkjLcjXfQn"
      },
      "outputs": [],
      "source": [
        "y = dataset[\"Exited\"]"
      ]
    },
    {
      "cell_type": "code",
      "execution_count": null,
      "metadata": {
        "id": "mS49j0alXfQn",
        "outputId": "327ef1d9-8db3-43cb-b58a-f69ebab965e4"
      },
      "outputs": [
        {
          "data": {
            "text/plain": [
              "(10000,)"
            ]
          },
          "execution_count": 21,
          "metadata": {},
          "output_type": "execute_result"
        }
      ],
      "source": [
        "y.shape"
      ]
    },
    {
      "cell_type": "code",
      "execution_count": null,
      "metadata": {
        "id": "JmBSwylFXfQo",
        "outputId": "b840c9e8-dc18-4a3b-e810-22930d2457ca"
      },
      "outputs": [
        {
          "data": {
            "text/plain": [
              "(10000, 11)"
            ]
          },
          "execution_count": 22,
          "metadata": {},
          "output_type": "execute_result"
        }
      ],
      "source": [
        "x.shape"
      ]
    },
    {
      "cell_type": "markdown",
      "metadata": {
        "id": "voQj1izUXfQo"
      },
      "source": [
        "### Split the data into train and test set"
      ]
    },
    {
      "cell_type": "code",
      "execution_count": null,
      "metadata": {
        "id": "Pydn5oKxXfQo"
      },
      "outputs": [],
      "source": [
        "from sklearn.model_selection import train_test_split"
      ]
    },
    {
      "cell_type": "code",
      "execution_count": null,
      "metadata": {
        "id": "2JvrQs3tXfQo"
      },
      "outputs": [],
      "source": [
        "#20% --Test\n",
        "x_train, x_test, y_train, y_test = train_test_split(x, y, test_size=0.2,random_state = 42)"
      ]
    },
    {
      "cell_type": "code",
      "execution_count": null,
      "metadata": {
        "id": "IGpOJtMJXfQo",
        "outputId": "ad091333-f584-4790-ed04-975d9735a928"
      },
      "outputs": [
        {
          "data": {
            "text/html": [
              "<div>\n",
              "<style scoped>\n",
              "    .dataframe tbody tr th:only-of-type {\n",
              "        vertical-align: middle;\n",
              "    }\n",
              "\n",
              "    .dataframe tbody tr th {\n",
              "        vertical-align: top;\n",
              "    }\n",
              "\n",
              "    .dataframe thead th {\n",
              "        text-align: right;\n",
              "    }\n",
              "</style>\n",
              "<table border=\"1\" class=\"dataframe\">\n",
              "  <thead>\n",
              "    <tr style=\"text-align: right;\">\n",
              "      <th></th>\n",
              "      <th>CreditScore</th>\n",
              "      <th>Age</th>\n",
              "      <th>Tenure</th>\n",
              "      <th>Balance</th>\n",
              "      <th>NumOfProducts</th>\n",
              "      <th>HasCrCard</th>\n",
              "      <th>IsActiveMember</th>\n",
              "      <th>EstimatedSalary</th>\n",
              "      <th>Geography_Germany</th>\n",
              "      <th>Geography_Spain</th>\n",
              "      <th>Gender_Male</th>\n",
              "    </tr>\n",
              "  </thead>\n",
              "  <tbody>\n",
              "    <tr>\n",
              "      <th>9254</th>\n",
              "      <td>686</td>\n",
              "      <td>32</td>\n",
              "      <td>6</td>\n",
              "      <td>0.00</td>\n",
              "      <td>2</td>\n",
              "      <td>1</td>\n",
              "      <td>1</td>\n",
              "      <td>179093.26</td>\n",
              "      <td>0</td>\n",
              "      <td>0</td>\n",
              "      <td>1</td>\n",
              "    </tr>\n",
              "    <tr>\n",
              "      <th>1561</th>\n",
              "      <td>632</td>\n",
              "      <td>42</td>\n",
              "      <td>4</td>\n",
              "      <td>119624.60</td>\n",
              "      <td>2</td>\n",
              "      <td>1</td>\n",
              "      <td>1</td>\n",
              "      <td>195978.86</td>\n",
              "      <td>1</td>\n",
              "      <td>0</td>\n",
              "      <td>1</td>\n",
              "    </tr>\n",
              "    <tr>\n",
              "      <th>1670</th>\n",
              "      <td>559</td>\n",
              "      <td>24</td>\n",
              "      <td>3</td>\n",
              "      <td>114739.92</td>\n",
              "      <td>1</td>\n",
              "      <td>1</td>\n",
              "      <td>0</td>\n",
              "      <td>85891.02</td>\n",
              "      <td>0</td>\n",
              "      <td>1</td>\n",
              "      <td>1</td>\n",
              "    </tr>\n",
              "    <tr>\n",
              "      <th>6087</th>\n",
              "      <td>561</td>\n",
              "      <td>27</td>\n",
              "      <td>9</td>\n",
              "      <td>135637.00</td>\n",
              "      <td>1</td>\n",
              "      <td>1</td>\n",
              "      <td>0</td>\n",
              "      <td>153080.40</td>\n",
              "      <td>0</td>\n",
              "      <td>0</td>\n",
              "      <td>0</td>\n",
              "    </tr>\n",
              "    <tr>\n",
              "      <th>6669</th>\n",
              "      <td>517</td>\n",
              "      <td>56</td>\n",
              "      <td>9</td>\n",
              "      <td>142147.32</td>\n",
              "      <td>1</td>\n",
              "      <td>0</td>\n",
              "      <td>0</td>\n",
              "      <td>39488.04</td>\n",
              "      <td>0</td>\n",
              "      <td>0</td>\n",
              "      <td>1</td>\n",
              "    </tr>\n",
              "    <tr>\n",
              "      <th>...</th>\n",
              "      <td>...</td>\n",
              "      <td>...</td>\n",
              "      <td>...</td>\n",
              "      <td>...</td>\n",
              "      <td>...</td>\n",
              "      <td>...</td>\n",
              "      <td>...</td>\n",
              "      <td>...</td>\n",
              "      <td>...</td>\n",
              "      <td>...</td>\n",
              "      <td>...</td>\n",
              "    </tr>\n",
              "    <tr>\n",
              "      <th>5734</th>\n",
              "      <td>768</td>\n",
              "      <td>54</td>\n",
              "      <td>8</td>\n",
              "      <td>69712.74</td>\n",
              "      <td>1</td>\n",
              "      <td>1</td>\n",
              "      <td>1</td>\n",
              "      <td>69381.05</td>\n",
              "      <td>0</td>\n",
              "      <td>0</td>\n",
              "      <td>1</td>\n",
              "    </tr>\n",
              "    <tr>\n",
              "      <th>5191</th>\n",
              "      <td>682</td>\n",
              "      <td>58</td>\n",
              "      <td>1</td>\n",
              "      <td>0.00</td>\n",
              "      <td>1</td>\n",
              "      <td>1</td>\n",
              "      <td>1</td>\n",
              "      <td>706.50</td>\n",
              "      <td>0</td>\n",
              "      <td>0</td>\n",
              "      <td>0</td>\n",
              "    </tr>\n",
              "    <tr>\n",
              "      <th>5390</th>\n",
              "      <td>735</td>\n",
              "      <td>38</td>\n",
              "      <td>1</td>\n",
              "      <td>0.00</td>\n",
              "      <td>3</td>\n",
              "      <td>0</td>\n",
              "      <td>0</td>\n",
              "      <td>92220.12</td>\n",
              "      <td>0</td>\n",
              "      <td>0</td>\n",
              "      <td>0</td>\n",
              "    </tr>\n",
              "    <tr>\n",
              "      <th>860</th>\n",
              "      <td>667</td>\n",
              "      <td>43</td>\n",
              "      <td>8</td>\n",
              "      <td>190227.46</td>\n",
              "      <td>1</td>\n",
              "      <td>1</td>\n",
              "      <td>0</td>\n",
              "      <td>97508.04</td>\n",
              "      <td>0</td>\n",
              "      <td>0</td>\n",
              "      <td>1</td>\n",
              "    </tr>\n",
              "    <tr>\n",
              "      <th>7270</th>\n",
              "      <td>697</td>\n",
              "      <td>51</td>\n",
              "      <td>1</td>\n",
              "      <td>147910.30</td>\n",
              "      <td>1</td>\n",
              "      <td>1</td>\n",
              "      <td>1</td>\n",
              "      <td>53581.14</td>\n",
              "      <td>1</td>\n",
              "      <td>0</td>\n",
              "      <td>1</td>\n",
              "    </tr>\n",
              "  </tbody>\n",
              "</table>\n",
              "<p>8000 rows × 11 columns</p>\n",
              "</div>"
            ],
            "text/plain": [
              "      CreditScore  Age  Tenure    Balance  NumOfProducts  HasCrCard  \\\n",
              "9254          686   32       6       0.00              2          1   \n",
              "1561          632   42       4  119624.60              2          1   \n",
              "1670          559   24       3  114739.92              1          1   \n",
              "6087          561   27       9  135637.00              1          1   \n",
              "6669          517   56       9  142147.32              1          0   \n",
              "...           ...  ...     ...        ...            ...        ...   \n",
              "5734          768   54       8   69712.74              1          1   \n",
              "5191          682   58       1       0.00              1          1   \n",
              "5390          735   38       1       0.00              3          0   \n",
              "860           667   43       8  190227.46              1          1   \n",
              "7270          697   51       1  147910.30              1          1   \n",
              "\n",
              "      IsActiveMember  EstimatedSalary  Geography_Germany  Geography_Spain  \\\n",
              "9254               1        179093.26                  0                0   \n",
              "1561               1        195978.86                  1                0   \n",
              "1670               0         85891.02                  0                1   \n",
              "6087               0        153080.40                  0                0   \n",
              "6669               0         39488.04                  0                0   \n",
              "...              ...              ...                ...              ...   \n",
              "5734               1         69381.05                  0                0   \n",
              "5191               1           706.50                  0                0   \n",
              "5390               0         92220.12                  0                0   \n",
              "860                0         97508.04                  0                0   \n",
              "7270               1         53581.14                  1                0   \n",
              "\n",
              "      Gender_Male  \n",
              "9254            1  \n",
              "1561            1  \n",
              "1670            1  \n",
              "6087            0  \n",
              "6669            1  \n",
              "...           ...  \n",
              "5734            1  \n",
              "5191            0  \n",
              "5390            0  \n",
              "860             1  \n",
              "7270            1  \n",
              "\n",
              "[8000 rows x 11 columns]"
            ]
          },
          "execution_count": 25,
          "metadata": {},
          "output_type": "execute_result"
        }
      ],
      "source": [
        "x_train"
      ]
    },
    {
      "cell_type": "code",
      "execution_count": null,
      "metadata": {
        "id": "kgVEW3qeXfQo",
        "outputId": "ede2873d-8b35-48b7-a19a-ed934764629a"
      },
      "outputs": [
        {
          "data": {
            "text/plain": [
              "(8000, 11)"
            ]
          },
          "execution_count": 26,
          "metadata": {},
          "output_type": "execute_result"
        }
      ],
      "source": [
        "x_train.shape"
      ]
    },
    {
      "cell_type": "code",
      "execution_count": null,
      "metadata": {
        "scrolled": false,
        "id": "TSkJpqMXXfQp",
        "outputId": "2b615f8b-7c4b-4a60-b1a4-aaa02916defd"
      },
      "outputs": [
        {
          "data": {
            "text/plain": [
              "(2000, 11)"
            ]
          },
          "execution_count": 27,
          "metadata": {},
          "output_type": "execute_result"
        }
      ],
      "source": [
        "x_test.shape"
      ]
    },
    {
      "cell_type": "code",
      "execution_count": null,
      "metadata": {
        "id": "GCiWdbhhXfQp",
        "outputId": "e4aee609-dffd-4a74-e04f-e46e52d70677"
      },
      "outputs": [
        {
          "data": {
            "text/html": [
              "<div>\n",
              "<style scoped>\n",
              "    .dataframe tbody tr th:only-of-type {\n",
              "        vertical-align: middle;\n",
              "    }\n",
              "\n",
              "    .dataframe tbody tr th {\n",
              "        vertical-align: top;\n",
              "    }\n",
              "\n",
              "    .dataframe thead th {\n",
              "        text-align: right;\n",
              "    }\n",
              "</style>\n",
              "<table border=\"1\" class=\"dataframe\">\n",
              "  <thead>\n",
              "    <tr style=\"text-align: right;\">\n",
              "      <th></th>\n",
              "      <th>CreditScore</th>\n",
              "      <th>Age</th>\n",
              "      <th>Tenure</th>\n",
              "      <th>Balance</th>\n",
              "      <th>NumOfProducts</th>\n",
              "      <th>HasCrCard</th>\n",
              "      <th>IsActiveMember</th>\n",
              "      <th>EstimatedSalary</th>\n",
              "      <th>Geography_Germany</th>\n",
              "      <th>Geography_Spain</th>\n",
              "      <th>Gender_Male</th>\n",
              "    </tr>\n",
              "  </thead>\n",
              "  <tbody>\n",
              "    <tr>\n",
              "      <th>9254</th>\n",
              "      <td>686</td>\n",
              "      <td>32</td>\n",
              "      <td>6</td>\n",
              "      <td>0.00</td>\n",
              "      <td>2</td>\n",
              "      <td>1</td>\n",
              "      <td>1</td>\n",
              "      <td>179093.26</td>\n",
              "      <td>0</td>\n",
              "      <td>0</td>\n",
              "      <td>1</td>\n",
              "    </tr>\n",
              "    <tr>\n",
              "      <th>1561</th>\n",
              "      <td>632</td>\n",
              "      <td>42</td>\n",
              "      <td>4</td>\n",
              "      <td>119624.60</td>\n",
              "      <td>2</td>\n",
              "      <td>1</td>\n",
              "      <td>1</td>\n",
              "      <td>195978.86</td>\n",
              "      <td>1</td>\n",
              "      <td>0</td>\n",
              "      <td>1</td>\n",
              "    </tr>\n",
              "    <tr>\n",
              "      <th>1670</th>\n",
              "      <td>559</td>\n",
              "      <td>24</td>\n",
              "      <td>3</td>\n",
              "      <td>114739.92</td>\n",
              "      <td>1</td>\n",
              "      <td>1</td>\n",
              "      <td>0</td>\n",
              "      <td>85891.02</td>\n",
              "      <td>0</td>\n",
              "      <td>1</td>\n",
              "      <td>1</td>\n",
              "    </tr>\n",
              "    <tr>\n",
              "      <th>6087</th>\n",
              "      <td>561</td>\n",
              "      <td>27</td>\n",
              "      <td>9</td>\n",
              "      <td>135637.00</td>\n",
              "      <td>1</td>\n",
              "      <td>1</td>\n",
              "      <td>0</td>\n",
              "      <td>153080.40</td>\n",
              "      <td>0</td>\n",
              "      <td>0</td>\n",
              "      <td>0</td>\n",
              "    </tr>\n",
              "    <tr>\n",
              "      <th>6669</th>\n",
              "      <td>517</td>\n",
              "      <td>56</td>\n",
              "      <td>9</td>\n",
              "      <td>142147.32</td>\n",
              "      <td>1</td>\n",
              "      <td>0</td>\n",
              "      <td>0</td>\n",
              "      <td>39488.04</td>\n",
              "      <td>0</td>\n",
              "      <td>0</td>\n",
              "      <td>1</td>\n",
              "    </tr>\n",
              "    <tr>\n",
              "      <th>...</th>\n",
              "      <td>...</td>\n",
              "      <td>...</td>\n",
              "      <td>...</td>\n",
              "      <td>...</td>\n",
              "      <td>...</td>\n",
              "      <td>...</td>\n",
              "      <td>...</td>\n",
              "      <td>...</td>\n",
              "      <td>...</td>\n",
              "      <td>...</td>\n",
              "      <td>...</td>\n",
              "    </tr>\n",
              "    <tr>\n",
              "      <th>5734</th>\n",
              "      <td>768</td>\n",
              "      <td>54</td>\n",
              "      <td>8</td>\n",
              "      <td>69712.74</td>\n",
              "      <td>1</td>\n",
              "      <td>1</td>\n",
              "      <td>1</td>\n",
              "      <td>69381.05</td>\n",
              "      <td>0</td>\n",
              "      <td>0</td>\n",
              "      <td>1</td>\n",
              "    </tr>\n",
              "    <tr>\n",
              "      <th>5191</th>\n",
              "      <td>682</td>\n",
              "      <td>58</td>\n",
              "      <td>1</td>\n",
              "      <td>0.00</td>\n",
              "      <td>1</td>\n",
              "      <td>1</td>\n",
              "      <td>1</td>\n",
              "      <td>706.50</td>\n",
              "      <td>0</td>\n",
              "      <td>0</td>\n",
              "      <td>0</td>\n",
              "    </tr>\n",
              "    <tr>\n",
              "      <th>5390</th>\n",
              "      <td>735</td>\n",
              "      <td>38</td>\n",
              "      <td>1</td>\n",
              "      <td>0.00</td>\n",
              "      <td>3</td>\n",
              "      <td>0</td>\n",
              "      <td>0</td>\n",
              "      <td>92220.12</td>\n",
              "      <td>0</td>\n",
              "      <td>0</td>\n",
              "      <td>0</td>\n",
              "    </tr>\n",
              "    <tr>\n",
              "      <th>860</th>\n",
              "      <td>667</td>\n",
              "      <td>43</td>\n",
              "      <td>8</td>\n",
              "      <td>190227.46</td>\n",
              "      <td>1</td>\n",
              "      <td>1</td>\n",
              "      <td>0</td>\n",
              "      <td>97508.04</td>\n",
              "      <td>0</td>\n",
              "      <td>0</td>\n",
              "      <td>1</td>\n",
              "    </tr>\n",
              "    <tr>\n",
              "      <th>7270</th>\n",
              "      <td>697</td>\n",
              "      <td>51</td>\n",
              "      <td>1</td>\n",
              "      <td>147910.30</td>\n",
              "      <td>1</td>\n",
              "      <td>1</td>\n",
              "      <td>1</td>\n",
              "      <td>53581.14</td>\n",
              "      <td>1</td>\n",
              "      <td>0</td>\n",
              "      <td>1</td>\n",
              "    </tr>\n",
              "  </tbody>\n",
              "</table>\n",
              "<p>8000 rows × 11 columns</p>\n",
              "</div>"
            ],
            "text/plain": [
              "      CreditScore  Age  Tenure    Balance  NumOfProducts  HasCrCard  \\\n",
              "9254          686   32       6       0.00              2          1   \n",
              "1561          632   42       4  119624.60              2          1   \n",
              "1670          559   24       3  114739.92              1          1   \n",
              "6087          561   27       9  135637.00              1          1   \n",
              "6669          517   56       9  142147.32              1          0   \n",
              "...           ...  ...     ...        ...            ...        ...   \n",
              "5734          768   54       8   69712.74              1          1   \n",
              "5191          682   58       1       0.00              1          1   \n",
              "5390          735   38       1       0.00              3          0   \n",
              "860           667   43       8  190227.46              1          1   \n",
              "7270          697   51       1  147910.30              1          1   \n",
              "\n",
              "      IsActiveMember  EstimatedSalary  Geography_Germany  Geography_Spain  \\\n",
              "9254               1        179093.26                  0                0   \n",
              "1561               1        195978.86                  1                0   \n",
              "1670               0         85891.02                  0                1   \n",
              "6087               0        153080.40                  0                0   \n",
              "6669               0         39488.04                  0                0   \n",
              "...              ...              ...                ...              ...   \n",
              "5734               1         69381.05                  0                0   \n",
              "5191               1           706.50                  0                0   \n",
              "5390               0         92220.12                  0                0   \n",
              "860                0         97508.04                  0                0   \n",
              "7270               1         53581.14                  1                0   \n",
              "\n",
              "      Gender_Male  \n",
              "9254            1  \n",
              "1561            1  \n",
              "1670            1  \n",
              "6087            0  \n",
              "6669            1  \n",
              "...           ...  \n",
              "5734            1  \n",
              "5191            0  \n",
              "5390            0  \n",
              "860             1  \n",
              "7270            1  \n",
              "\n",
              "[8000 rows x 11 columns]"
            ]
          },
          "execution_count": 28,
          "metadata": {},
          "output_type": "execute_result"
        }
      ],
      "source": [
        "x_train"
      ]
    },
    {
      "cell_type": "markdown",
      "metadata": {
        "id": "YKnSSU-yXfQp"
      },
      "source": [
        "### Scaling or Standardization or Normalization"
      ]
    },
    {
      "cell_type": "code",
      "execution_count": null,
      "metadata": {
        "id": "6my7-I8KXfQp"
      },
      "outputs": [],
      "source": [
        "from sklearn.preprocessing import StandardScaler"
      ]
    },
    {
      "cell_type": "code",
      "execution_count": null,
      "metadata": {
        "id": "yrOt-ta5XfQp"
      },
      "outputs": [],
      "source": [
        "sc = StandardScaler()#Creatin the object"
      ]
    },
    {
      "cell_type": "code",
      "execution_count": null,
      "metadata": {
        "id": "exRPf6NhXfQp"
      },
      "outputs": [],
      "source": [
        "#fit -- To apply the formula\n",
        "#transform -- \n",
        "x_train = sc.fit_transform(x_train)"
      ]
    },
    {
      "cell_type": "code",
      "execution_count": null,
      "metadata": {
        "id": "bTXR13nzXfQp"
      },
      "outputs": [],
      "source": [
        "x_test = sc.transform(x_test)"
      ]
    },
    {
      "cell_type": "code",
      "execution_count": null,
      "metadata": {
        "id": "woMjW14aXfQq",
        "outputId": "8cdc4b85-97d9-4223-f878-1af09fe7671d"
      },
      "outputs": [
        {
          "data": {
            "text/plain": [
              "array([[ 0.35649971, -0.6557859 ,  0.34567966, ..., -0.57946723,\n",
              "        -0.57638802,  0.91324755],\n",
              "       [-0.20389777,  0.29493847, -0.3483691 , ...,  1.72572313,\n",
              "        -0.57638802,  0.91324755],\n",
              "       [-0.96147213, -1.41636539, -0.69539349, ..., -0.57946723,\n",
              "         1.73494238,  0.91324755],\n",
              "       ...,\n",
              "       [ 0.86500853, -0.08535128, -1.38944225, ..., -0.57946723,\n",
              "        -0.57638802, -1.09499335],\n",
              "       [ 0.15932282,  0.3900109 ,  1.03972843, ..., -0.57946723,\n",
              "        -0.57638802,  0.91324755],\n",
              "       [ 0.47065475,  1.15059039, -1.38944225, ...,  1.72572313,\n",
              "        -0.57638802,  0.91324755]])"
            ]
          },
          "execution_count": 33,
          "metadata": {},
          "output_type": "execute_result"
        }
      ],
      "source": [
        "x_train"
      ]
    },
    {
      "cell_type": "code",
      "execution_count": null,
      "metadata": {
        "id": "bqngdaJnXfQq",
        "outputId": "7f760028-eb2f-4f26-c682-64b46108f9be"
      },
      "outputs": [
        {
          "data": {
            "text/plain": [
              "array([[-0.57749609, -0.6557859 , -0.69539349, ...,  1.72572313,\n",
              "        -0.57638802,  0.91324755],\n",
              "       [-0.29729735,  0.3900109 , -1.38944225, ..., -0.57946723,\n",
              "        -0.57638802,  0.91324755],\n",
              "       [-0.52560743,  0.48508334, -0.3483691 , ..., -0.57946723,\n",
              "         1.73494238, -1.09499335],\n",
              "       ...,\n",
              "       [ 0.81311987,  0.77030065,  0.69270405, ..., -0.57946723,\n",
              "        -0.57638802, -1.09499335],\n",
              "       [ 0.41876609, -0.94100321, -0.3483691 , ..., -0.57946723,\n",
              "        -0.57638802,  0.91324755],\n",
              "       [-0.24540869,  0.00972116, -1.38944225, ...,  1.72572313,\n",
              "        -0.57638802,  0.91324755]])"
            ]
          },
          "execution_count": 34,
          "metadata": {},
          "output_type": "execute_result"
        }
      ],
      "source": [
        "x_test"
      ]
    },
    {
      "cell_type": "markdown",
      "metadata": {
        "id": "MVPYSe6IXfQq"
      },
      "source": [
        "# **Build the Neural network model**"
      ]
    },
    {
      "metadata": {
        "id": "jRVf_dFlWsF0"
      },
      "cell_type": "markdown",
      "source": [
        "So why do we need so many neurons in an ANN if one will suffice?  Well, individual neurons are unable to classify non-linearly separable data because they can only ever learn a linear decision boundary. \n",
        "\n",
        "![alt text](https://jtsulliv.github.io/images/perceptron/linsep_new.png?raw=True)\n",
        "\n",
        "However, by combining neurons together, we essentially combine their decision boundaries.  Therefore, an ANN composed of many neurons is able to learn non-linear decision boundaries.\n",
        "\n",
        "![alt text](https://i.ytimg.com/vi/BR9h47Jtqyw/maxresdefault.jpg)\n",
        "\n",
        "Neurons are connected together according to a specific network architecture.  Though there are different architectures, nearly all of them contain **layers**.  (Neurons in the same layer do not connect with one another.)\n",
        "\n",
        "\n",
        "\n",
        "![alt text](https://cdn-images-1.medium.com/max/1600/1*_M4bZyuwaGby6KMiYVYXvg.jpeg)\n",
        "\n",
        "There is typically an input layer (containing a number of neurons equal to the number of input features in the data), an output layer (containing a number of neurons equal to the number of classes) and a hidden layer (containing any number of neurons).  There can be more than one hidden layer  to allow the neural net to learn more complex decision boundaries (Any neural net with more than one hidden layer is considered a deep neural net).\n",
        " \n",
        " ![alt text](https://www.stoodnt.com/blog/wp-content/uploads/2018/03/Neural-Networks.png)\n"
      ]
    },
    {
      "cell_type": "markdown",
      "metadata": {
        "id": "Ls_7flABXfQq"
      },
      "source": [
        "##### Build the Architechture"
      ]
    },
    {
      "cell_type": "code",
      "execution_count": null,
      "metadata": {
        "id": "ElW5f_EaXfQq"
      },
      "outputs": [],
      "source": [
        "# Tensorflow -- Google Neural networks\n",
        "# Tensorflow. Keras\n",
        "# Pytorch --Facebook"
      ]
    },
    {
      "cell_type": "code",
      "execution_count": null,
      "metadata": {
        "id": "pH55J4uOXfQq",
        "outputId": "f74b767a-8ff2-4e9f-baf9-786392650db6"
      },
      "outputs": [
        {
          "name": "stdout",
          "output_type": "stream",
          "text": [
            "Requirement already satisfied: tensorflow==2.3.0 in c:\\users\\abhishek\\appdata\\roaming\\python\\python37\\site-packages (2.3.0)\n",
            "Requirement already satisfied: astunparse==1.6.3 in c:\\programdata\\anaconda3\\lib\\site-packages (from tensorflow==2.3.0) (1.6.3)\n",
            "Requirement already satisfied: tensorboard<3,>=2.3.0 in c:\\users\\abhishek\\appdata\\roaming\\python\\python37\\site-packages (from tensorflow==2.3.0) (2.4.0)\n",
            "Requirement already satisfied: wheel>=0.26 in c:\\users\\abhishek\\appdata\\roaming\\python\\python37\\site-packages (from tensorflow==2.3.0) (0.35.1)\n",
            "Requirement already satisfied: protobuf>=3.9.2 in c:\\programdata\\anaconda3\\lib\\site-packages (from tensorflow==2.3.0) (3.13.0)\n",
            "Requirement already satisfied: tensorflow-estimator<2.4.0,>=2.3.0 in c:\\users\\abhishek\\appdata\\roaming\\python\\python37\\site-packages (from tensorflow==2.3.0) (2.3.0)\n",
            "Requirement already satisfied: grpcio>=1.8.6 in c:\\users\\abhishek\\appdata\\roaming\\python\\python37\\site-packages (from tensorflow==2.3.0) (1.34.0)\n",
            "Requirement already satisfied: h5py<2.11.0,>=2.10.0 in c:\\users\\abhishek\\appdata\\roaming\\python\\python37\\site-packages (from tensorflow==2.3.0) (2.10.0)\n",
            "Requirement already satisfied: gast==0.3.3 in c:\\users\\abhishek\\appdata\\roaming\\python\\python37\\site-packages (from tensorflow==2.3.0) (0.3.3)\n",
            "Requirement already satisfied: google-pasta>=0.1.8 in c:\\programdata\\anaconda3\\lib\\site-packages (from tensorflow==2.3.0) (0.2.0)\n",
            "Requirement already satisfied: absl-py>=0.7.0 in c:\\programdata\\anaconda3\\lib\\site-packages (from tensorflow==2.3.0) (0.10.0)\n",
            "Requirement already satisfied: opt-einsum>=2.3.2 in c:\\programdata\\anaconda3\\lib\\site-packages (from tensorflow==2.3.0) (3.3.0)\n",
            "Requirement already satisfied: termcolor>=1.1.0 in c:\\programdata\\anaconda3\\lib\\site-packages (from tensorflow==2.3.0) (1.1.0)\n",
            "Requirement already satisfied: six>=1.12.0 in c:\\programdata\\anaconda3\\lib\\site-packages (from tensorflow==2.3.0) (1.15.0)\n",
            "Requirement already satisfied: wrapt>=1.11.1 in c:\\programdata\\anaconda3\\lib\\site-packages (from tensorflow==2.3.0) (1.12.1)\n",
            "Requirement already satisfied: keras-preprocessing<1.2,>=1.1.1 in c:\\programdata\\anaconda3\\lib\\site-packages (from tensorflow==2.3.0) (1.1.2)\n",
            "Collecting scipy==1.4.1\n",
            "  Using cached scipy-1.4.1-cp37-cp37m-win_amd64.whl (30.9 MB)\n",
            "Collecting numpy<1.19.0,>=1.16.0\n",
            "  Using cached numpy-1.18.5-cp37-cp37m-win_amd64.whl (12.7 MB)\n",
            "Requirement already satisfied: setuptools in c:\\users\\abhishek\\appdata\\roaming\\python\\python37\\site-packages (from protobuf>=3.9.2->tensorflow==2.3.0) (50.3.0)\n",
            "Requirement already satisfied: google-auth-oauthlib<0.5,>=0.4.1 in c:\\programdata\\anaconda3\\lib\\site-packages (from tensorboard<3,>=2.3.0->tensorflow==2.3.0) (0.4.1)\n",
            "Requirement already satisfied: markdown>=2.6.8 in c:\\users\\abhishek\\appdata\\roaming\\python\\python37\\site-packages (from tensorboard<3,>=2.3.0->tensorflow==2.3.0) (3.1.1)\n",
            "Requirement already satisfied: google-auth<2,>=1.6.3 in c:\\users\\abhishek\\appdata\\roaming\\python\\python37\\site-packages (from tensorboard<3,>=2.3.0->tensorflow==2.3.0) (1.24.0)\n",
            "Requirement already satisfied: tensorboard-plugin-wit>=1.6.0 in c:\\programdata\\anaconda3\\lib\\site-packages (from tensorboard<3,>=2.3.0->tensorflow==2.3.0) (1.7.0)\n",
            "Requirement already satisfied: werkzeug>=0.11.15 in c:\\programdata\\anaconda3\\lib\\site-packages (from tensorboard<3,>=2.3.0->tensorflow==2.3.0) (0.16.0)\n",
            "Requirement already satisfied: requests<3,>=2.21.0 in c:\\users\\abhishek\\appdata\\roaming\\python\\python37\\site-packages (from tensorboard<3,>=2.3.0->tensorflow==2.3.0) (2.25.1)\n",
            "Requirement already satisfied: cachetools<5.0,>=2.0.0 in c:\\users\\abhishek\\appdata\\roaming\\python\\python37\\site-packages (from google-auth<2,>=1.6.3->tensorboard<3,>=2.3.0->tensorflow==2.3.0) (4.2.0)\n",
            "Requirement already satisfied: rsa<5,>=3.1.4 in c:\\programdata\\anaconda3\\lib\\site-packages (from google-auth<2,>=1.6.3->tensorboard<3,>=2.3.0->tensorflow==2.3.0) (4.0)\n",
            "Requirement already satisfied: pyasn1-modules>=0.2.1 in c:\\programdata\\anaconda3\\lib\\site-packages (from google-auth<2,>=1.6.3->tensorboard<3,>=2.3.0->tensorflow==2.3.0) (0.2.8)\n",
            "Requirement already satisfied: requests-oauthlib>=0.7.0 in c:\\programdata\\anaconda3\\lib\\site-packages (from google-auth-oauthlib<0.5,>=0.4.1->tensorboard<3,>=2.3.0->tensorflow==2.3.0) (1.3.0)\n",
            "Requirement already satisfied: pyasn1<0.5.0,>=0.4.6 in c:\\programdata\\anaconda3\\lib\\site-packages (from pyasn1-modules>=0.2.1->google-auth<2,>=1.6.3->tensorboard<3,>=2.3.0->tensorflow==2.3.0) (0.4.8)\n",
            "Requirement already satisfied: chardet<5,>=3.0.2 in c:\\users\\abhishek\\appdata\\roaming\\python\\python37\\site-packages (from requests<3,>=2.21.0->tensorboard<3,>=2.3.0->tensorflow==2.3.0) (4.0.0)\n",
            "Requirement already satisfied: urllib3<1.27,>=1.21.1 in c:\\users\\abhishek\\appdata\\roaming\\python\\python37\\site-packages (from requests<3,>=2.21.0->tensorboard<3,>=2.3.0->tensorflow==2.3.0) (1.26.2)\n",
            "Requirement already satisfied: idna<3,>=2.5 in c:\\users\\abhishek\\appdata\\roaming\\python\\python37\\site-packages (from requests<3,>=2.21.0->tensorboard<3,>=2.3.0->tensorflow==2.3.0) (2.10)\n",
            "Requirement already satisfied: certifi>=2017.4.17 in c:\\programdata\\anaconda3\\lib\\site-packages (from requests<3,>=2.21.0->tensorboard<3,>=2.3.0->tensorflow==2.3.0) (2020.4.5.1)\n",
            "Requirement already satisfied: oauthlib>=3.0.0 in c:\\programdata\\anaconda3\\lib\\site-packages (from requests-oauthlib>=0.7.0->google-auth-oauthlib<0.5,>=0.4.1->tensorboard<3,>=2.3.0->tensorflow==2.3.0) (3.1.0)\n",
            "Installing collected packages: numpy, scipy\n",
            "  Attempting uninstall: numpy\n",
            "    Found existing installation: numpy 1.21.5\n",
            "    Uninstalling numpy-1.21.5:\n"
          ]
        },
        {
          "name": "stderr",
          "output_type": "stream",
          "text": [
            "ERROR: Could not install packages due to an EnvironmentError: [WinError 5] Access is denied: 'c:\\\\programdata\\\\anaconda3\\\\lib\\\\site-packages\\\\numpy-1.21.5.dist-info\\\\entry_points.txt'\n",
            "Consider using the `--user` option or check the permissions.\n",
            "\n",
            "WARNING: You are using pip version 20.3.3; however, version 22.0.4 is available.\n",
            "You should consider upgrading via the 'c:\\programdata\\anaconda3\\python.exe -m pip install --upgrade pip' command.\n"
          ]
        }
      ],
      "source": [
        "!pip install tensorflow==2.3.0"
      ]
    },
    {
      "cell_type": "code",
      "execution_count": null,
      "metadata": {
        "id": "nXsfPxWZXfQr"
      },
      "outputs": [],
      "source": [
        "from tensorflow.keras.models import Sequential #Used to init the NN Model"
      ]
    },
    {
      "cell_type": "code",
      "execution_count": null,
      "metadata": {
        "id": "HfEcQ0YsXfQr"
      },
      "outputs": [],
      "source": [
        "from tensorflow.keras.layers import Dense #Used for adding layers"
      ]
    },
    {
      "cell_type": "markdown",
      "metadata": {
        "id": "K6YpzFCcXfQr"
      },
      "source": [
        "### Init the Neural Network Model"
      ]
    },
    {
      "cell_type": "code",
      "execution_count": null,
      "metadata": {
        "id": "116LpQCxXfQr"
      },
      "outputs": [],
      "source": [
        "nn_model = Sequential()"
      ]
    },
    {
      "cell_type": "markdown",
      "metadata": {
        "id": "aRsSupCGXfQr"
      },
      "source": [
        "### Add a input layer"
      ]
    },
    {
      "cell_type": "code",
      "execution_count": null,
      "metadata": {
        "id": "w-rHbFE5XfQr",
        "outputId": "db3a2d6c-43c3-496c-f47b-a0187affd2f1"
      },
      "outputs": [
        {
          "data": {
            "text/plain": [
              "11"
            ]
          },
          "execution_count": 127,
          "metadata": {},
          "output_type": "execute_result"
        }
      ],
      "source": [
        "x_train.shape[1]#No of features"
      ]
    },
    {
      "cell_type": "code",
      "execution_count": null,
      "metadata": {
        "id": "CEpoM45xXfQr"
      },
      "outputs": [],
      "source": [
        "#add -- Add the layers to the model\n",
        "#add(layer)\n",
        "#input_dim -- No Of features no of neurons in input layer\n",
        "#kernel_initializer -- Strategy to init the weights #kernel--weights\n",
        "#activation -- function to be applied in this layer\n",
        "#output_dim --units -- No of outputs from each neuron -- or No of neurons\n",
        "    #in next layer -- Hyperparameter\n",
        "inp_layer = Dense(input_dim = x_train.shape[1], \n",
        "                  kernel_initializer = \"random_uniform\", \n",
        "                  activation = \"relu\", units = 30 )\n",
        "nn_model.add(inp_layer)"
      ]
    },
    {
      "cell_type": "markdown",
      "metadata": {
        "id": "OaIbI3zpXfQs"
      },
      "source": [
        "### Add the hidden layer"
      ]
    },
    {
      "cell_type": "markdown",
      "source": [
        "Once we initialize our ann, we are now going to create layers for the same. Here we are going to create a network that will have 2 hidden layers, 1 input layer, and 1 output layer."
      ],
      "metadata": {
        "id": "RsdPlmaszf8I"
      }
    },
    {
      "cell_type": "code",
      "execution_count": null,
      "metadata": {
        "id": "N7fiwwtWXfQs"
      },
      "outputs": [],
      "source": [
        "hidden_layer = Dense(kernel_initializer = \"random_uniform\", \n",
        "                  activation = \"relu\", units = 35 )\n",
        "nn_model.add(hidden_layer)"
      ]
    },
    {
      "cell_type": "markdown",
      "source": [
        "Here we have created our first hidden layer by using the Dense class which is part of the layers module. This class accepts 2 inputs:-\n",
        "\n",
        "1. units:- number of neurons that will be present in the respective layer\n",
        "\n",
        "2. activation:- specify which activation function to be used\n",
        "\n",
        "“relu”[rectified linear unit] as an activation function for hidden layers. Since we are going to create two hidden layers, this same step we are going to repeat for the creation of the second hidden layer as well."
      ],
      "metadata": {
        "id": "tz86Q1Wzznpx"
      }
    },
    {
      "cell_type": "markdown",
      "metadata": {
        "id": "Bp8cnytLXfQs"
      },
      "source": [
        "### Add Hidder layer -2"
      ]
    },
    {
      "cell_type": "code",
      "execution_count": null,
      "metadata": {
        "id": "8ravVeMqXfQs"
      },
      "outputs": [],
      "source": [
        "hidden_layer_2 = Dense(kernel_initializer = \"random_uniform\", \n",
        "                  activation = \"relu\", units = 20 )\n",
        "nn_model.add(hidden_layer_2)"
      ]
    },
    {
      "cell_type": "markdown",
      "metadata": {
        "id": "JWQPh6UJXfQs"
      },
      "source": [
        "### Add the output layer"
      ]
    },
    {
      "cell_type": "markdown",
      "source": [
        "In this step, we are going to create our output layer for ann. The output layer will be responsible for giving output."
      ],
      "metadata": {
        "id": "MFAp0F1nzyv6"
      }
    },
    {
      "cell_type": "code",
      "execution_count": null,
      "metadata": {
        "id": "oYPNqRy8XfQs"
      },
      "outputs": [],
      "source": [
        "#The final layer which return the output  -- output_layer\n",
        "#Sigmoid \n",
        "output_layer = Dense(kernel_initializer = \"random_uniform\", \n",
        "                  activation = \"sigmoid\", units = 1 )\n",
        "nn_model.add(output_layer)"
      ]
    },
    {
      "cell_type": "markdown",
      "source": [
        "Here again, we are going to use the Dense class in order to create the output layer. Two important things to remember here:-\n",
        "\n",
        "1. In a binary classification problem(like this one) where we will be having only two classes as output (1 and 0), we will be allocating only one neuron to output this result. For the multiclass classification problem, we have to use more than one neuron in the output layer. For example – if our output contains 4 categories then we need to create 4 different neurons[one for each category].\n",
        "\n",
        "2. For the binary classification Problems, the activation function that should always be used is sigmoid. For a multiclass classification problem, the activation function that should be used is softmax.\n",
        "\n",
        "Here since we are dealing with binary classification hence we are allocating only one neuron in the output layer and the activation function which is used is softmax."
      ],
      "metadata": {
        "id": "loz-N3wRz2EJ"
      }
    },
    {
      "cell_type": "markdown",
      "metadata": {
        "id": "pHbJL9N3XfQt"
      },
      "source": [
        "### Compile the model"
      ]
    },
    {
      "cell_type": "markdown",
      "source": [
        "We have now created layers for our neural network. In this step, we are going to compile our ANN."
      ],
      "metadata": {
        "id": "sTgattiDz6M6"
      }
    },
    {
      "cell_type": "code",
      "execution_count": null,
      "metadata": {
        "id": "z6pvlPysXfQt"
      },
      "outputs": [],
      "source": [
        "from tensorflow.keras.optimizers import Adam"
      ]
    },
    {
      "cell_type": "code",
      "execution_count": null,
      "metadata": {
        "id": "IfeLHxDMXfQt"
      },
      "outputs": [],
      "source": [
        "#learning_rate --decides the speed of learning process\n",
        "ada_optimizer = Adam(learning_rate=0.001)#0.001"
      ]
    },
    {
      "cell_type": "markdown",
      "source": [
        "We have used compile method of our ann object in order to compile our network. Compile method accepts the below inputs:-\n",
        "\n",
        "1. optimizer:- specifies which optimizer to be used in order to perform stochastic gradient descent. I had experimented with various optimizers like RMSProp, adam and I have found that adam optimizer is a reliable one that can be used with any neural network.\n",
        "\n",
        "2. loss:- specifies which loss function should be used. For binary classification, the value should be binary_crossentropy. For multiclass classification, it should be categorical_crossentropy.\n",
        "\n",
        "3. metrics:- which performance metrics to be used in order to compute performance. Here we have used accuracy as a performance metric."
      ],
      "metadata": {
        "id": "6y1B8tF_z-YV"
      }
    },
    {
      "cell_type": "code",
      "execution_count": null,
      "metadata": {
        "id": "GfJgUW7pXfQt"
      },
      "outputs": [],
      "source": [
        "#Here the strategies are mentioned\n",
        "#loss -- Error calculating strategy\n",
        "#optimizer --Optimizing the weights -- Weights updating strategy\n",
        "#adam -- mini batch gradient descent\n",
        "#metrics--model performace calculating strategy\n",
        "\n",
        "nn_model.compile(loss = \"binary_crossentropy\", optimizer = ada_optimizer, metrics = [\"accuracy\"])"
      ]
    },
    {
      "cell_type": "code",
      "execution_count": null,
      "metadata": {
        "id": "3ylessKyXfQt",
        "outputId": "5d371e85-6a43-4d9b-c4f2-2368aee99d24"
      },
      "outputs": [
        {
          "name": "stdout",
          "output_type": "stream",
          "text": [
            "Model: \"sequential_3\"\n",
            "_________________________________________________________________\n",
            "Layer (type)                 Output Shape              Param #   \n",
            "=================================================================\n",
            "dense_12 (Dense)             (None, 30)                360       \n",
            "_________________________________________________________________\n",
            "dense_13 (Dense)             (None, 35)                1085      \n",
            "_________________________________________________________________\n",
            "dense_14 (Dense)             (None, 20)                720       \n",
            "_________________________________________________________________\n",
            "dense_15 (Dense)             (None, 1)                 21        \n",
            "=================================================================\n",
            "Total params: 2,186\n",
            "Trainable params: 2,186\n",
            "Non-trainable params: 0\n",
            "_________________________________________________________________\n"
          ]
        }
      ],
      "source": [
        "nn_model.summary()"
      ]
    },
    {
      "cell_type": "markdown",
      "metadata": {
        "id": "H71WX_BBXfQu"
      },
      "source": [
        "### Train the model"
      ]
    },
    {
      "cell_type": "markdown",
      "source": [
        "This is the last step in our ann creation process. Here we are just going to train our ann on the training dataset.\n",
        "\n",
        "Here we have used the fit method in order to train our ann. The fit method is accepting 4 inputs in this case:-\n",
        "\n",
        "1.X_train:- Matrix of features for the training dataset\n",
        "\n",
        "2.Y_train:- Dependent variable vectors for the training dataset\n",
        "\n",
        "3.batch_size: how many observations should be there in the batch. Usually, the value for this parameter is 32 but we can experiment with any other value as well.\n",
        "\n",
        "4.epochs: How many times neural networks will be trained. Here the optimal value is 100.\n",
        "\n",
        "Are you interested to see how the training process looks like? Well here is the snap for the same."
      ],
      "metadata": {
        "id": "LU0WY05S0GFz"
      }
    },
    {
      "cell_type": "code",
      "execution_count": null,
      "metadata": {
        "id": "wf6hsUKyXfQu",
        "outputId": "66be147b-06ff-4546-d56b-d93e14a21749"
      },
      "outputs": [
        {
          "data": {
            "text/plain": [
              "(8000, 11)"
            ]
          },
          "execution_count": 136,
          "metadata": {},
          "output_type": "execute_result"
        }
      ],
      "source": [
        "x_train.shape"
      ]
    },
    {
      "cell_type": "code",
      "execution_count": null,
      "metadata": {
        "id": "93vpgM_GXfQu"
      },
      "outputs": [],
      "source": [
        "# no of training points / batch_size"
      ]
    },
    {
      "cell_type": "code",
      "execution_count": null,
      "metadata": {
        "scrolled": false,
        "id": "5sNkQLVWXfQu",
        "outputId": "a1b4686a-3cff-40d3-be66-d854ad52249f"
      },
      "outputs": [
        {
          "name": "stdout",
          "output_type": "stream",
          "text": [
            "Epoch 1/200\n",
            "250/250 [==============================] - 0s 1ms/step - loss: 0.4971 - accuracy: 0.7930\n",
            "Epoch 2/200\n",
            "250/250 [==============================] - 0s 1ms/step - loss: 0.4278 - accuracy: 0.7945\n",
            "Epoch 3/200\n",
            "250/250 [==============================] - 0s 1ms/step - loss: 0.4226 - accuracy: 0.8016\n",
            "Epoch 4/200\n",
            "250/250 [==============================] - 0s 1ms/step - loss: 0.4208 - accuracy: 0.8238\n",
            "Epoch 5/200\n",
            "250/250 [==============================] - 0s 1ms/step - loss: 0.4188 - accuracy: 0.8281\n",
            "Epoch 6/200\n",
            "250/250 [==============================] - 0s 1ms/step - loss: 0.4165 - accuracy: 0.8304\n",
            "Epoch 7/200\n",
            "250/250 [==============================] - 0s 1ms/step - loss: 0.4167 - accuracy: 0.8328\n",
            "Epoch 8/200\n",
            "250/250 [==============================] - 0s 1ms/step - loss: 0.4146 - accuracy: 0.8317\n",
            "Epoch 9/200\n",
            "250/250 [==============================] - 0s 1ms/step - loss: 0.4132 - accuracy: 0.8338\n",
            "Epoch 10/200\n",
            "250/250 [==============================] - 0s 1ms/step - loss: 0.4121 - accuracy: 0.8350\n",
            "Epoch 11/200\n",
            "250/250 [==============================] - 0s 1ms/step - loss: 0.4104 - accuracy: 0.8346\n",
            "Epoch 12/200\n",
            "250/250 [==============================] - 0s 1ms/step - loss: 0.4076 - accuracy: 0.8351\n",
            "Epoch 13/200\n",
            "250/250 [==============================] - 0s 1ms/step - loss: 0.3919 - accuracy: 0.8421\n",
            "Epoch 14/200\n",
            "250/250 [==============================] - 0s 1ms/step - loss: 0.3795 - accuracy: 0.8490\n",
            "Epoch 15/200\n",
            "250/250 [==============================] - 0s 1ms/step - loss: 0.3729 - accuracy: 0.8486\n",
            "Epoch 16/200\n",
            "250/250 [==============================] - 0s 1ms/step - loss: 0.3680 - accuracy: 0.8506\n",
            "Epoch 17/200\n",
            "250/250 [==============================] - 0s 1ms/step - loss: 0.3637 - accuracy: 0.8537\n",
            "Epoch 18/200\n",
            "250/250 [==============================] - 0s 1ms/step - loss: 0.3616 - accuracy: 0.8543\n",
            "Epoch 19/200\n",
            "250/250 [==============================] - 0s 1ms/step - loss: 0.3575 - accuracy: 0.8545\n",
            "Epoch 20/200\n",
            "250/250 [==============================] - 0s 1ms/step - loss: 0.3579 - accuracy: 0.8565\n",
            "Epoch 21/200\n",
            "250/250 [==============================] - 0s 1ms/step - loss: 0.3547 - accuracy: 0.8566\n",
            "Epoch 22/200\n",
            "250/250 [==============================] - 0s 1ms/step - loss: 0.3529 - accuracy: 0.8591\n",
            "Epoch 23/200\n",
            "250/250 [==============================] - 0s 1ms/step - loss: 0.3521 - accuracy: 0.8593\n",
            "Epoch 24/200\n",
            "250/250 [==============================] - 0s 1ms/step - loss: 0.3523 - accuracy: 0.8570\n",
            "Epoch 25/200\n",
            "250/250 [==============================] - 0s 1ms/step - loss: 0.3493 - accuracy: 0.8577\n",
            "Epoch 26/200\n",
            "250/250 [==============================] - 0s 1ms/step - loss: 0.3474 - accuracy: 0.8606\n",
            "Epoch 27/200\n",
            "250/250 [==============================] - 0s 1ms/step - loss: 0.3469 - accuracy: 0.8630\n",
            "Epoch 28/200\n",
            "250/250 [==============================] - 0s 1ms/step - loss: 0.3456 - accuracy: 0.8595\n",
            "Epoch 29/200\n",
            "250/250 [==============================] - 0s 1ms/step - loss: 0.3438 - accuracy: 0.8604\n",
            "Epoch 30/200\n",
            "250/250 [==============================] - 0s 1ms/step - loss: 0.3415 - accuracy: 0.8631\n",
            "Epoch 31/200\n",
            "250/250 [==============================] - 0s 1ms/step - loss: 0.3397 - accuracy: 0.8635\n",
            "Epoch 32/200\n",
            "250/250 [==============================] - 0s 1ms/step - loss: 0.3386 - accuracy: 0.8605\n",
            "Epoch 33/200\n",
            "250/250 [==============================] - 0s 1ms/step - loss: 0.3371 - accuracy: 0.8622\n",
            "Epoch 34/200\n",
            "250/250 [==============================] - 0s 1ms/step - loss: 0.3357 - accuracy: 0.8626\n",
            "Epoch 35/200\n",
            "250/250 [==============================] - 0s 1ms/step - loss: 0.3363 - accuracy: 0.8619\n",
            "Epoch 36/200\n",
            "250/250 [==============================] - 0s 1ms/step - loss: 0.3355 - accuracy: 0.8641\n",
            "Epoch 37/200\n",
            "250/250 [==============================] - 0s 1ms/step - loss: 0.3340 - accuracy: 0.8611\n",
            "Epoch 38/200\n",
            "250/250 [==============================] - 0s 1ms/step - loss: 0.3343 - accuracy: 0.8610\n",
            "Epoch 39/200\n",
            "250/250 [==============================] - 0s 1ms/step - loss: 0.3330 - accuracy: 0.8650\n",
            "Epoch 40/200\n",
            "250/250 [==============================] - 0s 1ms/step - loss: 0.3321 - accuracy: 0.8662\n",
            "Epoch 41/200\n",
            "250/250 [==============================] - 0s 1ms/step - loss: 0.3330 - accuracy: 0.8650\n",
            "Epoch 42/200\n",
            "250/250 [==============================] - 0s 1ms/step - loss: 0.3333 - accuracy: 0.8652\n",
            "Epoch 43/200\n",
            "250/250 [==============================] - 0s 1ms/step - loss: 0.3316 - accuracy: 0.8651\n",
            "Epoch 44/200\n",
            "250/250 [==============================] - 0s 1ms/step - loss: 0.3324 - accuracy: 0.8631\n",
            "Epoch 45/200\n",
            "250/250 [==============================] - 0s 1ms/step - loss: 0.3297 - accuracy: 0.8650\n",
            "Epoch 46/200\n",
            "250/250 [==============================] - 0s 1ms/step - loss: 0.3307 - accuracy: 0.8619\n",
            "Epoch 47/200\n",
            "250/250 [==============================] - 0s 1ms/step - loss: 0.3296 - accuracy: 0.8640\n",
            "Epoch 48/200\n",
            "250/250 [==============================] - 0s 1ms/step - loss: 0.3301 - accuracy: 0.8649\n",
            "Epoch 49/200\n",
            "250/250 [==============================] - 0s 1ms/step - loss: 0.3299 - accuracy: 0.8615\n",
            "Epoch 50/200\n",
            "250/250 [==============================] - 0s 1ms/step - loss: 0.3293 - accuracy: 0.8636\n",
            "Epoch 51/200\n",
            "250/250 [==============================] - 0s 1ms/step - loss: 0.3294 - accuracy: 0.8602\n",
            "Epoch 52/200\n",
            "250/250 [==============================] - 0s 1ms/step - loss: 0.3293 - accuracy: 0.8630\n",
            "Epoch 53/200\n",
            "250/250 [==============================] - 0s 1ms/step - loss: 0.3287 - accuracy: 0.8656\n",
            "Epoch 54/200\n",
            "250/250 [==============================] - 0s 1ms/step - loss: 0.3291 - accuracy: 0.8625\n",
            "Epoch 55/200\n",
            "250/250 [==============================] - 0s 1ms/step - loss: 0.3290 - accuracy: 0.8643\n",
            "Epoch 56/200\n",
            "250/250 [==============================] - 0s 1ms/step - loss: 0.3273 - accuracy: 0.8654\n",
            "Epoch 57/200\n",
            "250/250 [==============================] - 0s 1ms/step - loss: 0.3274 - accuracy: 0.8644\n",
            "Epoch 58/200\n",
            "250/250 [==============================] - 0s 1ms/step - loss: 0.3280 - accuracy: 0.8639\n",
            "Epoch 59/200\n",
            "250/250 [==============================] - 0s 1ms/step - loss: 0.3273 - accuracy: 0.8636\n",
            "Epoch 60/200\n",
            "250/250 [==============================] - 0s 1ms/step - loss: 0.3269 - accuracy: 0.8656\n",
            "Epoch 61/200\n",
            "250/250 [==============================] - 0s 1ms/step - loss: 0.3271 - accuracy: 0.8641\n",
            "Epoch 62/200\n",
            "250/250 [==============================] - 0s 1ms/step - loss: 0.3279 - accuracy: 0.8639\n",
            "Epoch 63/200\n",
            "250/250 [==============================] - 0s 1ms/step - loss: 0.3264 - accuracy: 0.8651\n",
            "Epoch 64/200\n",
            "250/250 [==============================] - 0s 1ms/step - loss: 0.3240 - accuracy: 0.8649\n",
            "Epoch 65/200\n",
            "250/250 [==============================] - 0s 1ms/step - loss: 0.3244 - accuracy: 0.8659\n",
            "Epoch 66/200\n",
            "250/250 [==============================] - 0s 1ms/step - loss: 0.3258 - accuracy: 0.8615\n",
            "Epoch 67/200\n",
            "250/250 [==============================] - 0s 1ms/step - loss: 0.3269 - accuracy: 0.8660\n",
            "Epoch 68/200\n",
            "250/250 [==============================] - 0s 1ms/step - loss: 0.3236 - accuracy: 0.8640\n",
            "Epoch 69/200\n",
            "250/250 [==============================] - 0s 1ms/step - loss: 0.3241 - accuracy: 0.8658\n",
            "Epoch 70/200\n",
            "250/250 [==============================] - 0s 1ms/step - loss: 0.3238 - accuracy: 0.8661\n",
            "Epoch 71/200\n",
            "250/250 [==============================] - 0s 1ms/step - loss: 0.3240 - accuracy: 0.8668\n",
            "Epoch 72/200\n",
            "250/250 [==============================] - 0s 1ms/step - loss: 0.3232 - accuracy: 0.8654\n",
            "Epoch 73/200\n",
            "250/250 [==============================] - 0s 1ms/step - loss: 0.3225 - accuracy: 0.8661\n",
            "Epoch 74/200\n",
            "250/250 [==============================] - 0s 1ms/step - loss: 0.3237 - accuracy: 0.8660\n",
            "Epoch 75/200\n",
            "250/250 [==============================] - 0s 1ms/step - loss: 0.3244 - accuracy: 0.8636\n",
            "Epoch 76/200\n",
            "250/250 [==============================] - 0s 1ms/step - loss: 0.3220 - accuracy: 0.8646\n",
            "Epoch 77/200\n",
            "250/250 [==============================] - 0s 1ms/step - loss: 0.3229 - accuracy: 0.8666\n",
            "Epoch 78/200\n",
            "250/250 [==============================] - 0s 1ms/step - loss: 0.3224 - accuracy: 0.8661\n",
            "Epoch 79/200\n",
            "250/250 [==============================] - 0s 998us/step - loss: 0.3211 - accuracy: 0.8662\n",
            "Epoch 80/200\n",
            "250/250 [==============================] - 0s 1000us/step - loss: 0.3206 - accuracy: 0.8643\n",
            "Epoch 81/200\n"
          ]
        },
        {
          "name": "stdout",
          "output_type": "stream",
          "text": [
            "250/250 [==============================] - 0s 1ms/step - loss: 0.3203 - accuracy: 0.8670\n",
            "Epoch 82/200\n",
            "250/250 [==============================] - 0s 1ms/step - loss: 0.3214 - accuracy: 0.8659\n",
            "Epoch 83/200\n",
            "250/250 [==============================] - 0s 1ms/step - loss: 0.3208 - accuracy: 0.8669\n",
            "Epoch 84/200\n",
            "250/250 [==============================] - 0s 1ms/step - loss: 0.3206 - accuracy: 0.8651\n",
            "Epoch 85/200\n",
            "250/250 [==============================] - 0s 1ms/step - loss: 0.3203 - accuracy: 0.8654\n",
            "Epoch 86/200\n",
            "250/250 [==============================] - 0s 1ms/step - loss: 0.3208 - accuracy: 0.8684\n",
            "Epoch 87/200\n",
            "250/250 [==============================] - 0s 1ms/step - loss: 0.3195 - accuracy: 0.8650\n",
            "Epoch 88/200\n",
            "250/250 [==============================] - 0s 1ms/step - loss: 0.3196 - accuracy: 0.8652\n",
            "Epoch 89/200\n",
            "250/250 [==============================] - 0s 1ms/step - loss: 0.3199 - accuracy: 0.8637\n",
            "Epoch 90/200\n",
            "250/250 [==============================] - 0s 1ms/step - loss: 0.3187 - accuracy: 0.8676\n",
            "Epoch 91/200\n",
            "250/250 [==============================] - 0s 1ms/step - loss: 0.3196 - accuracy: 0.8664\n",
            "Epoch 92/200\n",
            "250/250 [==============================] - 0s 1ms/step - loss: 0.3193 - accuracy: 0.8690\n",
            "Epoch 93/200\n",
            "250/250 [==============================] - 0s 1ms/step - loss: 0.3194 - accuracy: 0.8666\n",
            "Epoch 94/200\n",
            "250/250 [==============================] - 0s 1ms/step - loss: 0.3178 - accuracy: 0.8655\n",
            "Epoch 95/200\n",
            "250/250 [==============================] - 0s 1ms/step - loss: 0.3181 - accuracy: 0.8676\n",
            "Epoch 96/200\n",
            "250/250 [==============================] - 0s 1ms/step - loss: 0.3178 - accuracy: 0.8645\n",
            "Epoch 97/200\n",
            "250/250 [==============================] - 0s 1ms/step - loss: 0.3182 - accuracy: 0.8671\n",
            "Epoch 98/200\n",
            "250/250 [==============================] - 0s 1ms/step - loss: 0.3162 - accuracy: 0.8679\n",
            "Epoch 99/200\n",
            "250/250 [==============================] - 0s 1ms/step - loss: 0.3166 - accuracy: 0.8658\n",
            "Epoch 100/200\n",
            "250/250 [==============================] - 0s 1ms/step - loss: 0.3160 - accuracy: 0.8658\n",
            "Epoch 101/200\n",
            "250/250 [==============================] - 0s 1ms/step - loss: 0.3159 - accuracy: 0.8668\n",
            "Epoch 102/200\n",
            "250/250 [==============================] - 0s 1ms/step - loss: 0.3166 - accuracy: 0.8673\n",
            "Epoch 103/200\n",
            "250/250 [==============================] - 0s 1ms/step - loss: 0.3140 - accuracy: 0.8687\n",
            "Epoch 104/200\n",
            "250/250 [==============================] - 0s 1ms/step - loss: 0.3153 - accuracy: 0.8661\n",
            "Epoch 105/200\n",
            "250/250 [==============================] - 0s 1ms/step - loss: 0.3147 - accuracy: 0.8679\n",
            "Epoch 106/200\n",
            "250/250 [==============================] - 0s 1ms/step - loss: 0.3152 - accuracy: 0.8664\n",
            "Epoch 107/200\n",
            "250/250 [==============================] - 0s 995us/step - loss: 0.3150 - accuracy: 0.8700\n",
            "Epoch 108/200\n",
            "250/250 [==============================] - 0s 1ms/step - loss: 0.3154 - accuracy: 0.8674\n",
            "Epoch 109/200\n",
            "250/250 [==============================] - 0s 1000us/step - loss: 0.3141 - accuracy: 0.8698\n",
            "Epoch 110/200\n",
            "250/250 [==============================] - 0s 1ms/step - loss: 0.3151 - accuracy: 0.8666\n",
            "Epoch 111/200\n",
            "250/250 [==============================] - 0s 1ms/step - loss: 0.3132 - accuracy: 0.8696\n",
            "Epoch 112/200\n",
            "250/250 [==============================] - 0s 1ms/step - loss: 0.3133 - accuracy: 0.8670\n",
            "Epoch 113/200\n",
            "250/250 [==============================] - 0s 1ms/step - loss: 0.3138 - accuracy: 0.8661\n",
            "Epoch 114/200\n",
            "250/250 [==============================] - 0s 1ms/step - loss: 0.3124 - accuracy: 0.8690\n",
            "Epoch 115/200\n",
            "250/250 [==============================] - 0s 1ms/step - loss: 0.3122 - accuracy: 0.8677\n",
            "Epoch 116/200\n",
            "250/250 [==============================] - 0s 1ms/step - loss: 0.3136 - accuracy: 0.8671\n",
            "Epoch 117/200\n",
            "250/250 [==============================] - 0s 1ms/step - loss: 0.3121 - accuracy: 0.8699\n",
            "Epoch 118/200\n",
            "250/250 [==============================] - 0s 1ms/step - loss: 0.3123 - accuracy: 0.8704\n",
            "Epoch 119/200\n",
            "250/250 [==============================] - 0s 1ms/step - loss: 0.3120 - accuracy: 0.8708\n",
            "Epoch 120/200\n",
            "250/250 [==============================] - 0s 1ms/step - loss: 0.3111 - accuracy: 0.8691\n",
            "Epoch 121/200\n",
            "250/250 [==============================] - 0s 1ms/step - loss: 0.3112 - accuracy: 0.8686\n",
            "Epoch 122/200\n",
            "250/250 [==============================] - 0s 1ms/step - loss: 0.3121 - accuracy: 0.8694\n",
            "Epoch 123/200\n",
            "250/250 [==============================] - 0s 1ms/step - loss: 0.3114 - accuracy: 0.8702\n",
            "Epoch 124/200\n",
            "250/250 [==============================] - 0s 1ms/step - loss: 0.3117 - accuracy: 0.8708\n",
            "Epoch 125/200\n",
            "250/250 [==============================] - 0s 1ms/step - loss: 0.3109 - accuracy: 0.8686\n",
            "Epoch 126/200\n",
            "250/250 [==============================] - 0s 987us/step - loss: 0.3096 - accuracy: 0.8714\n",
            "Epoch 127/200\n",
            "250/250 [==============================] - 0s 981us/step - loss: 0.3105 - accuracy: 0.8704\n",
            "Epoch 128/200\n",
            "250/250 [==============================] - 0s 966us/step - loss: 0.3109 - accuracy: 0.8691\n",
            "Epoch 129/200\n",
            "250/250 [==============================] - 0s 987us/step - loss: 0.3095 - accuracy: 0.8702\n",
            "Epoch 130/200\n",
            "250/250 [==============================] - 0s 964us/step - loss: 0.3102 - accuracy: 0.8696\n",
            "Epoch 131/200\n",
            "250/250 [==============================] - 0s 1ms/step - loss: 0.3090 - accuracy: 0.8711\n",
            "Epoch 132/200\n",
            "250/250 [==============================] - 0s 1ms/step - loss: 0.3088 - accuracy: 0.8723\n",
            "Epoch 133/200\n",
            "250/250 [==============================] - 0s 1ms/step - loss: 0.3099 - accuracy: 0.8712\n",
            "Epoch 134/200\n",
            "250/250 [==============================] - 0s 1ms/step - loss: 0.3086 - accuracy: 0.8705\n",
            "Epoch 135/200\n",
            "250/250 [==============================] - 0s 1ms/step - loss: 0.3094 - accuracy: 0.8692\n",
            "Epoch 136/200\n",
            "250/250 [==============================] - 0s 1ms/step - loss: 0.3083 - accuracy: 0.8694\n",
            "Epoch 137/200\n",
            "250/250 [==============================] - 0s 1ms/step - loss: 0.3079 - accuracy: 0.8723\n",
            "Epoch 138/200\n",
            "250/250 [==============================] - 0s 1ms/step - loss: 0.3082 - accuracy: 0.8721\n",
            "Epoch 139/200\n",
            "250/250 [==============================] - 0s 1ms/step - loss: 0.3077 - accuracy: 0.8692\n",
            "Epoch 140/200\n",
            "250/250 [==============================] - 0s 1ms/step - loss: 0.3066 - accuracy: 0.8716\n",
            "Epoch 141/200\n",
            "250/250 [==============================] - 0s 1ms/step - loss: 0.3071 - accuracy: 0.8705\n",
            "Epoch 142/200\n",
            "250/250 [==============================] - 0s 1ms/step - loss: 0.3071 - accuracy: 0.8704\n",
            "Epoch 143/200\n",
            "250/250 [==============================] - 0s 1ms/step - loss: 0.3062 - accuracy: 0.8699\n",
            "Epoch 144/200\n",
            "250/250 [==============================] - 0s 1ms/step - loss: 0.3060 - accuracy: 0.8705\n",
            "Epoch 145/200\n",
            "250/250 [==============================] - 0s 1ms/step - loss: 0.3074 - accuracy: 0.8725\n",
            "Epoch 146/200\n",
            "250/250 [==============================] - 0s 1ms/step - loss: 0.3061 - accuracy: 0.8716\n",
            "Epoch 147/200\n",
            "250/250 [==============================] - 0s 1ms/step - loss: 0.3071 - accuracy: 0.8735\n",
            "Epoch 148/200\n",
            "250/250 [==============================] - 0s 1ms/step - loss: 0.3059 - accuracy: 0.8720\n",
            "Epoch 149/200\n",
            "250/250 [==============================] - 0s 1ms/step - loss: 0.3062 - accuracy: 0.8711\n",
            "Epoch 150/200\n",
            "250/250 [==============================] - 0s 1ms/step - loss: 0.3049 - accuracy: 0.8745\n",
            "Epoch 151/200\n",
            "250/250 [==============================] - 0s 1ms/step - loss: 0.3057 - accuracy: 0.8721\n",
            "Epoch 152/200\n",
            "250/250 [==============================] - 0s 1ms/step - loss: 0.3059 - accuracy: 0.8702\n",
            "Epoch 153/200\n",
            "250/250 [==============================] - 0s 1ms/step - loss: 0.3052 - accuracy: 0.8710\n",
            "Epoch 154/200\n",
            "250/250 [==============================] - 0s 1ms/step - loss: 0.3056 - accuracy: 0.8710\n",
            "Epoch 155/200\n",
            "250/250 [==============================] - 0s 1ms/step - loss: 0.3042 - accuracy: 0.8724\n",
            "Epoch 156/200\n",
            "250/250 [==============================] - 0s 1ms/step - loss: 0.3049 - accuracy: 0.8715\n",
            "Epoch 157/200\n",
            "250/250 [==============================] - 0s 1ms/step - loss: 0.3041 - accuracy: 0.8695\n",
            "Epoch 158/200\n",
            "250/250 [==============================] - 0s 1ms/step - loss: 0.3048 - accuracy: 0.8726\n",
            "Epoch 159/200\n",
            "250/250 [==============================] - 0s 1ms/step - loss: 0.3030 - accuracy: 0.8700\n",
            "Epoch 160/200\n"
          ]
        },
        {
          "name": "stdout",
          "output_type": "stream",
          "text": [
            "250/250 [==============================] - 0s 988us/step - loss: 0.3035 - accuracy: 0.8720\n",
            "Epoch 161/200\n",
            "250/250 [==============================] - 0s 1ms/step - loss: 0.3048 - accuracy: 0.8712\n",
            "Epoch 162/200\n",
            "250/250 [==============================] - 0s 1ms/step - loss: 0.3043 - accuracy: 0.8727\n",
            "Epoch 163/200\n",
            "250/250 [==============================] - 0s 1ms/step - loss: 0.3035 - accuracy: 0.8711\n",
            "Epoch 164/200\n",
            "250/250 [==============================] - 0s 1ms/step - loss: 0.3021 - accuracy: 0.8734\n",
            "Epoch 165/200\n",
            "250/250 [==============================] - 0s 1ms/step - loss: 0.3020 - accuracy: 0.8758\n",
            "Epoch 166/200\n",
            "250/250 [==============================] - 0s 1ms/step - loss: 0.3019 - accuracy: 0.8724\n",
            "Epoch 167/200\n",
            "250/250 [==============================] - 0s 1ms/step - loss: 0.3047 - accuracy: 0.8724\n",
            "Epoch 168/200\n",
            "250/250 [==============================] - 0s 1ms/step - loss: 0.3019 - accuracy: 0.8712\n",
            "Epoch 169/200\n",
            "250/250 [==============================] - 0s 1ms/step - loss: 0.3017 - accuracy: 0.8725\n",
            "Epoch 170/200\n",
            "250/250 [==============================] - 0s 1ms/step - loss: 0.3004 - accuracy: 0.8727\n",
            "Epoch 171/200\n",
            "250/250 [==============================] - 0s 1ms/step - loss: 0.3024 - accuracy: 0.8714\n",
            "Epoch 172/200\n",
            "250/250 [==============================] - 0s 1ms/step - loss: 0.3012 - accuracy: 0.8748\n",
            "Epoch 173/200\n",
            "250/250 [==============================] - 0s 1ms/step - loss: 0.3024 - accuracy: 0.8754\n",
            "Epoch 174/200\n",
            "250/250 [==============================] - 0s 1ms/step - loss: 0.3004 - accuracy: 0.8745\n",
            "Epoch 175/200\n",
            "250/250 [==============================] - 0s 1ms/step - loss: 0.3014 - accuracy: 0.8756\n",
            "Epoch 176/200\n",
            "250/250 [==============================] - 0s 1ms/step - loss: 0.3004 - accuracy: 0.8725\n",
            "Epoch 177/200\n",
            "250/250 [==============================] - 0s 1ms/step - loss: 0.3003 - accuracy: 0.8726\n",
            "Epoch 178/200\n",
            "250/250 [==============================] - 0s 1ms/step - loss: 0.3002 - accuracy: 0.8739\n",
            "Epoch 179/200\n",
            "250/250 [==============================] - 0s 1ms/step - loss: 0.2999 - accuracy: 0.8749\n",
            "Epoch 180/200\n",
            "250/250 [==============================] - 0s 1ms/step - loss: 0.3001 - accuracy: 0.8730\n",
            "Epoch 181/200\n",
            "250/250 [==============================] - 0s 1ms/step - loss: 0.3003 - accuracy: 0.8737\n",
            "Epoch 182/200\n",
            "250/250 [==============================] - 0s 1ms/step - loss: 0.2993 - accuracy: 0.8749\n",
            "Epoch 183/200\n",
            "250/250 [==============================] - 0s 1ms/step - loss: 0.3015 - accuracy: 0.8745\n",
            "Epoch 184/200\n",
            "250/250 [==============================] - 0s 1ms/step - loss: 0.2993 - accuracy: 0.8737\n",
            "Epoch 185/200\n",
            "250/250 [==============================] - 0s 1ms/step - loss: 0.2983 - accuracy: 0.8754\n",
            "Epoch 186/200\n",
            "250/250 [==============================] - 0s 1ms/step - loss: 0.2983 - accuracy: 0.8739\n",
            "Epoch 187/200\n",
            "250/250 [==============================] - 0s 1ms/step - loss: 0.3007 - accuracy: 0.8735\n",
            "Epoch 188/200\n",
            "250/250 [==============================] - 0s 1ms/step - loss: 0.2974 - accuracy: 0.8750\n",
            "Epoch 189/200\n",
            "250/250 [==============================] - 0s 1ms/step - loss: 0.2987 - accuracy: 0.8733\n",
            "Epoch 190/200\n",
            "250/250 [==============================] - 0s 1ms/step - loss: 0.2976 - accuracy: 0.8745\n",
            "Epoch 191/200\n",
            "250/250 [==============================] - 0s 1ms/step - loss: 0.2985 - accuracy: 0.8752\n",
            "Epoch 192/200\n",
            "250/250 [==============================] - 0s 1ms/step - loss: 0.2979 - accuracy: 0.8746\n",
            "Epoch 193/200\n",
            "250/250 [==============================] - 0s 1ms/step - loss: 0.2982 - accuracy: 0.8751\n",
            "Epoch 194/200\n",
            "250/250 [==============================] - 0s 1ms/step - loss: 0.2968 - accuracy: 0.8766\n",
            "Epoch 195/200\n",
            "250/250 [==============================] - 0s 1ms/step - loss: 0.2982 - accuracy: 0.8742\n",
            "Epoch 196/200\n",
            "250/250 [==============================] - 0s 1ms/step - loss: 0.2967 - accuracy: 0.8749\n",
            "Epoch 197/200\n",
            "250/250 [==============================] - 0s 1ms/step - loss: 0.2956 - accuracy: 0.8774\n",
            "Epoch 198/200\n",
            "250/250 [==============================] - 0s 1ms/step - loss: 0.2968 - accuracy: 0.8760\n",
            "Epoch 199/200\n",
            "250/250 [==============================] - 0s 1ms/step - loss: 0.2955 - accuracy: 0.8751\n",
            "Epoch 200/200\n",
            "250/250 [==============================] - 0s 1ms/step - loss: 0.2966 - accuracy: 0.8771\n"
          ]
        }
      ],
      "source": [
        "#Training data\n",
        "#batch_size -- No of data points for used for weights updation(Hyperparameter)\n",
        "#Epochs--No of training iterations\n",
        "training_stats = nn_model.fit(x_train, y_train, batch_size = 32, epochs = 200)"
      ]
    },
    {
      "cell_type": "code",
      "execution_count": null,
      "metadata": {
        "id": "-ydV8m89XfQu",
        "outputId": "740fa2cf-209f-4419-f90e-982ecf3e5a7b"
      },
      "outputs": [
        {
          "data": {
            "text/plain": [
              "<tensorflow.python.keras.callbacks.History at 0x20d520b5508>"
            ]
          },
          "execution_count": 139,
          "metadata": {},
          "output_type": "execute_result"
        }
      ],
      "source": [
        "training_stats"
      ]
    },
    {
      "cell_type": "code",
      "execution_count": null,
      "metadata": {
        "id": "hlROxbyhXfQv",
        "outputId": "896ac750-e47b-4396-b50f-ee101ca3c898"
      },
      "outputs": [
        {
          "data": {
            "text/plain": [
              "{'loss': [0.49714395403862,\n",
              "  0.4278409779071808,\n",
              "  0.4226222634315491,\n",
              "  0.4208059012889862,\n",
              "  0.418792188167572,\n",
              "  0.4165421724319458,\n",
              "  0.41665273904800415,\n",
              "  0.4146137535572052,\n",
              "  0.41317856311798096,\n",
              "  0.4121111035346985,\n",
              "  0.4104393422603607,\n",
              "  0.40757542848587036,\n",
              "  0.39188268780708313,\n",
              "  0.37948620319366455,\n",
              "  0.3729284405708313,\n",
              "  0.36804160475730896,\n",
              "  0.3637401759624481,\n",
              "  0.36161619424819946,\n",
              "  0.35753878951072693,\n",
              "  0.3579087257385254,\n",
              "  0.3546876311302185,\n",
              "  0.35290974378585815,\n",
              "  0.3520805835723877,\n",
              "  0.3523266613483429,\n",
              "  0.3492955267429352,\n",
              "  0.34741151332855225,\n",
              "  0.3469253182411194,\n",
              "  0.3455953299999237,\n",
              "  0.3438141942024231,\n",
              "  0.34152647852897644,\n",
              "  0.3396671414375305,\n",
              "  0.3386046588420868,\n",
              "  0.33708614110946655,\n",
              "  0.335731565952301,\n",
              "  0.33628571033477783,\n",
              "  0.3354997932910919,\n",
              "  0.3339729309082031,\n",
              "  0.3342808187007904,\n",
              "  0.33302628993988037,\n",
              "  0.33214324712753296,\n",
              "  0.3329569697380066,\n",
              "  0.3333316445350647,\n",
              "  0.3315681517124176,\n",
              "  0.3324357569217682,\n",
              "  0.32971101999282837,\n",
              "  0.33070966601371765,\n",
              "  0.32960566878318787,\n",
              "  0.3300846815109253,\n",
              "  0.3298532962799072,\n",
              "  0.3292955756187439,\n",
              "  0.3294050693511963,\n",
              "  0.3292732834815979,\n",
              "  0.32867422699928284,\n",
              "  0.3291349411010742,\n",
              "  0.32900476455688477,\n",
              "  0.32727736234664917,\n",
              "  0.3274405896663666,\n",
              "  0.32803937792778015,\n",
              "  0.3273123502731323,\n",
              "  0.3268754780292511,\n",
              "  0.32713618874549866,\n",
              "  0.32792866230010986,\n",
              "  0.32635384798049927,\n",
              "  0.32398277521133423,\n",
              "  0.32441258430480957,\n",
              "  0.32584384083747864,\n",
              "  0.3268791735172272,\n",
              "  0.3235999345779419,\n",
              "  0.3240785300731659,\n",
              "  0.32376113533973694,\n",
              "  0.32399994134902954,\n",
              "  0.32315272092819214,\n",
              "  0.3224743604660034,\n",
              "  0.32367777824401855,\n",
              "  0.3244301676750183,\n",
              "  0.3219834268093109,\n",
              "  0.3229367733001709,\n",
              "  0.3224327862262726,\n",
              "  0.3211095631122589,\n",
              "  0.32058683037757874,\n",
              "  0.3203299939632416,\n",
              "  0.3213634788990021,\n",
              "  0.32079988718032837,\n",
              "  0.3205720782279968,\n",
              "  0.32025980949401855,\n",
              "  0.3208172619342804,\n",
              "  0.3194575607776642,\n",
              "  0.3196136951446533,\n",
              "  0.31988921761512756,\n",
              "  0.3186950385570526,\n",
              "  0.3196287453174591,\n",
              "  0.319303959608078,\n",
              "  0.3194270730018616,\n",
              "  0.3178008198738098,\n",
              "  0.31813985109329224,\n",
              "  0.3177669644355774,\n",
              "  0.31817540526390076,\n",
              "  0.3162384033203125,\n",
              "  0.31664952635765076,\n",
              "  0.3159906566143036,\n",
              "  0.31589582562446594,\n",
              "  0.31656137108802795,\n",
              "  0.3140403628349304,\n",
              "  0.3153134286403656,\n",
              "  0.3146882653236389,\n",
              "  0.3151680827140808,\n",
              "  0.31502509117126465,\n",
              "  0.31544259190559387,\n",
              "  0.31410664319992065,\n",
              "  0.3151242136955261,\n",
              "  0.3132355809211731,\n",
              "  0.3132686913013458,\n",
              "  0.3138408958911896,\n",
              "  0.3124067485332489,\n",
              "  0.3121945261955261,\n",
              "  0.3135981261730194,\n",
              "  0.3121316730976105,\n",
              "  0.3122789263725281,\n",
              "  0.31204017996788025,\n",
              "  0.31110578775405884,\n",
              "  0.31115299463272095,\n",
              "  0.3120908737182617,\n",
              "  0.31143131852149963,\n",
              "  0.31170809268951416,\n",
              "  0.31089621782302856,\n",
              "  0.30958208441734314,\n",
              "  0.3104580044746399,\n",
              "  0.31085675954818726,\n",
              "  0.3094940483570099,\n",
              "  0.3101792633533478,\n",
              "  0.3090451955795288,\n",
              "  0.30882880091667175,\n",
              "  0.30993014574050903,\n",
              "  0.30856290459632874,\n",
              "  0.30942413210868835,\n",
              "  0.30832603573799133,\n",
              "  0.307856023311615,\n",
              "  0.3082130551338196,\n",
              "  0.3077195882797241,\n",
              "  0.3066454231739044,\n",
              "  0.30711981654167175,\n",
              "  0.30706027150154114,\n",
              "  0.3061680495738983,\n",
              "  0.3059992492198944,\n",
              "  0.3074159622192383,\n",
              "  0.3061230480670929,\n",
              "  0.30713483691215515,\n",
              "  0.30594849586486816,\n",
              "  0.30619850754737854,\n",
              "  0.30492761731147766,\n",
              "  0.3056829869747162,\n",
              "  0.30588966608047485,\n",
              "  0.3051835000514984,\n",
              "  0.30563902854919434,\n",
              "  0.3042161166667938,\n",
              "  0.30490046739578247,\n",
              "  0.30409786105155945,\n",
              "  0.30484411120414734,\n",
              "  0.30303865671157837,\n",
              "  0.30345019698143005,\n",
              "  0.3047800362110138,\n",
              "  0.3043246865272522,\n",
              "  0.3034960627555847,\n",
              "  0.30213600397109985,\n",
              "  0.3019837439060211,\n",
              "  0.3019159138202667,\n",
              "  0.3047241270542145,\n",
              "  0.30192831158638,\n",
              "  0.30167412757873535,\n",
              "  0.3004143536090851,\n",
              "  0.30235055088996887,\n",
              "  0.3011924624443054,\n",
              "  0.3024275004863739,\n",
              "  0.30041977763175964,\n",
              "  0.3013722598552704,\n",
              "  0.30044665932655334,\n",
              "  0.30026790499687195,\n",
              "  0.3002314865589142,\n",
              "  0.2998886704444885,\n",
              "  0.30014923214912415,\n",
              "  0.30026981234550476,\n",
              "  0.2993483543395996,\n",
              "  0.3014505207538605,\n",
              "  0.299286425113678,\n",
              "  0.29828161001205444,\n",
              "  0.2983342707157135,\n",
              "  0.3006669580936432,\n",
              "  0.2974075376987457,\n",
              "  0.2986997067928314,\n",
              "  0.29760032892227173,\n",
              "  0.29849666357040405,\n",
              "  0.29788053035736084,\n",
              "  0.29823827743530273,\n",
              "  0.2967827320098877,\n",
              "  0.2981920838356018,\n",
              "  0.29669269919395447,\n",
              "  0.29555633664131165,\n",
              "  0.2967618703842163,\n",
              "  0.2954547107219696,\n",
              "  0.2966362237930298],\n",
              " 'accuracy': [0.7929999828338623,\n",
              "  0.7944999933242798,\n",
              "  0.8016250133514404,\n",
              "  0.8237500190734863,\n",
              "  0.828125,\n",
              "  0.8303750157356262,\n",
              "  0.8327500224113464,\n",
              "  0.8317499756813049,\n",
              "  0.8337500095367432,\n",
              "  0.8349999785423279,\n",
              "  0.8346250057220459,\n",
              "  0.8351250290870667,\n",
              "  0.8421249985694885,\n",
              "  0.8489999771118164,\n",
              "  0.8486250042915344,\n",
              "  0.8506249785423279,\n",
              "  0.8537499904632568,\n",
              "  0.8542500138282776,\n",
              "  0.8544999957084656,\n",
              "  0.8565000295639038,\n",
              "  0.8566250205039978,\n",
              "  0.859125018119812,\n",
              "  0.859250009059906,\n",
              "  0.8569999933242798,\n",
              "  0.8577499985694885,\n",
              "  0.8606250286102295,\n",
              "  0.8629999756813049,\n",
              "  0.859499990940094,\n",
              "  0.8603749871253967,\n",
              "  0.8631250262260437,\n",
              "  0.8634999990463257,\n",
              "  0.8604999780654907,\n",
              "  0.8622499704360962,\n",
              "  0.862625002861023,\n",
              "  0.8618749976158142,\n",
              "  0.8641250133514404,\n",
              "  0.8611249923706055,\n",
              "  0.8610000014305115,\n",
              "  0.8650000095367432,\n",
              "  0.8662499785423279,\n",
              "  0.8650000095367432,\n",
              "  0.8652499914169312,\n",
              "  0.8651250004768372,\n",
              "  0.8631250262260437,\n",
              "  0.8650000095367432,\n",
              "  0.8618749976158142,\n",
              "  0.8640000224113464,\n",
              "  0.8648750185966492,\n",
              "  0.8615000247955322,\n",
              "  0.8636249899864197,\n",
              "  0.8602499961853027,\n",
              "  0.8629999756813049,\n",
              "  0.8656250238418579,\n",
              "  0.862500011920929,\n",
              "  0.8642500042915344,\n",
              "  0.8653749823570251,\n",
              "  0.8643749952316284,\n",
              "  0.8638749718666077,\n",
              "  0.8636249899864197,\n",
              "  0.8656250238418579,\n",
              "  0.8641250133514404,\n",
              "  0.8638749718666077,\n",
              "  0.8651250004768372,\n",
              "  0.8648750185966492,\n",
              "  0.8658750057220459,\n",
              "  0.8615000247955322,\n",
              "  0.8659999966621399,\n",
              "  0.8640000224113464,\n",
              "  0.8657500147819519,\n",
              "  0.8661249876022339,\n",
              "  0.8667500019073486,\n",
              "  0.8653749823570251,\n",
              "  0.8661249876022339,\n",
              "  0.8659999966621399,\n",
              "  0.8636249899864197,\n",
              "  0.8646249771118164,\n",
              "  0.8666250109672546,\n",
              "  0.8661249876022339,\n",
              "  0.8662499785423279,\n",
              "  0.8642500042915344,\n",
              "  0.8669999837875366,\n",
              "  0.8658750057220459,\n",
              "  0.8668749928474426,\n",
              "  0.8651250004768372,\n",
              "  0.8653749823570251,\n",
              "  0.8683750033378601,\n",
              "  0.8650000095367432,\n",
              "  0.8652499914169312,\n",
              "  0.8637499809265137,\n",
              "  0.8676249980926514,\n",
              "  0.8663750290870667,\n",
              "  0.8690000176429749,\n",
              "  0.8666250109672546,\n",
              "  0.8654999732971191,\n",
              "  0.8676249980926514,\n",
              "  0.8644999861717224,\n",
              "  0.8671249747276306,\n",
              "  0.8678749799728394,\n",
              "  0.8657500147819519,\n",
              "  0.8657500147819519,\n",
              "  0.8667500019073486,\n",
              "  0.8672500252723694,\n",
              "  0.8687499761581421,\n",
              "  0.8661249876022339,\n",
              "  0.8678749799728394,\n",
              "  0.8663750290870667,\n",
              "  0.8700000047683716,\n",
              "  0.8673750162124634,\n",
              "  0.8697500228881836,\n",
              "  0.8666250109672546,\n",
              "  0.8696249723434448,\n",
              "  0.8669999837875366,\n",
              "  0.8661249876022339,\n",
              "  0.8690000176429749,\n",
              "  0.8677499890327454,\n",
              "  0.8671249747276306,\n",
              "  0.8698750138282776,\n",
              "  0.8703749775886536,\n",
              "  0.8707500100135803,\n",
              "  0.8691250085830688,\n",
              "  0.8686249852180481,\n",
              "  0.8693749904632568,\n",
              "  0.8702499866485596,\n",
              "  0.8707500100135803,\n",
              "  0.8686249852180481,\n",
              "  0.8713750243186951,\n",
              "  0.8703749775886536,\n",
              "  0.8691250085830688,\n",
              "  0.8702499866485596,\n",
              "  0.8696249723434448,\n",
              "  0.8711249828338623,\n",
              "  0.8722500205039978,\n",
              "  0.8712499737739563,\n",
              "  0.8705000281333923,\n",
              "  0.8692499995231628,\n",
              "  0.8693749904632568,\n",
              "  0.8722500205039978,\n",
              "  0.8721250295639038,\n",
              "  0.8692499995231628,\n",
              "  0.8716250061988831,\n",
              "  0.8705000281333923,\n",
              "  0.8703749775886536,\n",
              "  0.8698750138282776,\n",
              "  0.8705000281333923,\n",
              "  0.8725000023841858,\n",
              "  0.8716250061988831,\n",
              "  0.8734999895095825,\n",
              "  0.871999979019165,\n",
              "  0.8711249828338623,\n",
              "  0.8744999766349792,\n",
              "  0.8721250295639038,\n",
              "  0.8702499866485596,\n",
              "  0.8709999918937683,\n",
              "  0.8709999918937683,\n",
              "  0.8723750114440918,\n",
              "  0.8715000152587891,\n",
              "  0.8694999814033508,\n",
              "  0.8726249933242798,\n",
              "  0.8700000047683716,\n",
              "  0.871999979019165,\n",
              "  0.8712499737739563,\n",
              "  0.8727499842643738,\n",
              "  0.8711249828338623,\n",
              "  0.8733749985694885,\n",
              "  0.8757500052452087,\n",
              "  0.8723750114440918,\n",
              "  0.8723750114440918,\n",
              "  0.8712499737739563,\n",
              "  0.8725000023841858,\n",
              "  0.8727499842643738,\n",
              "  0.8713750243186951,\n",
              "  0.874750018119812,\n",
              "  0.875374972820282,\n",
              "  0.8744999766349792,\n",
              "  0.8756250143051147,\n",
              "  0.8725000023841858,\n",
              "  0.8726249933242798,\n",
              "  0.8738750219345093,\n",
              "  0.874875009059906,\n",
              "  0.8730000257492065,\n",
              "  0.8737499713897705,\n",
              "  0.874875009059906,\n",
              "  0.8744999766349792,\n",
              "  0.8737499713897705,\n",
              "  0.875374972820282,\n",
              "  0.8738750219345093,\n",
              "  0.8734999895095825,\n",
              "  0.875,\n",
              "  0.8732500076293945,\n",
              "  0.8744999766349792,\n",
              "  0.875249981880188,\n",
              "  0.874625027179718,\n",
              "  0.875124990940094,\n",
              "  0.8766250014305115,\n",
              "  0.8742499947547913,\n",
              "  0.874875009059906,\n",
              "  0.8773750066757202,\n",
              "  0.8759999871253967,\n",
              "  0.875124990940094,\n",
              "  0.8771250247955322]}"
            ]
          },
          "execution_count": 140,
          "metadata": {},
          "output_type": "execute_result"
        }
      ],
      "source": [
        "training_stats.history"
      ]
    },
    {
      "cell_type": "code",
      "execution_count": null,
      "metadata": {
        "id": "WYbtU6HkXfQv"
      },
      "outputs": [],
      "source": [
        "epochs = list(range(1,201))"
      ]
    },
    {
      "cell_type": "code",
      "execution_count": null,
      "metadata": {
        "id": "X_SVJwfzXfQv",
        "outputId": "6ec8730e-2257-4150-8f3e-6cc18aeb5284"
      },
      "outputs": [
        {
          "data": {
            "image/png": "[encoded data removed]",
            "text/plain": [
              "<Figure size 1080x360 with 1 Axes>"
            ]
          },
          "metadata": {
            "needs_background": "light"
          },
          "output_type": "display_data"
        }
      ],
      "source": [
        "plt.figure(figsize=(15,5))\n",
        "plt.plot(epochs, training_stats.history[\"accuracy\"])\n",
        "plt.xlabel(\"Epochs\")\n",
        "plt.ylabel(\"Training accuracy scores\")\n",
        "\n",
        "plt.show()"
      ]
    },
    {
      "cell_type": "code",
      "execution_count": null,
      "metadata": {
        "id": "kfAUlGcNXfQv",
        "outputId": "2e3748dd-56fe-4887-c3bd-8f297ad18d7c"
      },
      "outputs": [
        {
          "data": {
            "image/png": "[encoded data removed]",
            "text/plain": [
              "<Figure size 1080x360 with 1 Axes>"
            ]
          },
          "metadata": {
            "needs_background": "light"
          },
          "output_type": "display_data"
        }
      ],
      "source": [
        "plt.figure(figsize=(15,5))\n",
        "plt.plot(epochs, training_stats.history[\"loss\"])\n",
        "plt.xlabel(\"Epochs\")\n",
        "plt.ylabel(\"Training loss\")\n",
        "\n",
        "plt.show()"
      ]
    },
    {
      "cell_type": "markdown",
      "metadata": {
        "id": "C_VI7j4vXfQv"
      },
      "source": [
        "### Prediction"
      ]
    },
    {
      "cell_type": "code",
      "execution_count": null,
      "metadata": {
        "id": "tZgboz3wXfQv"
      },
      "outputs": [],
      "source": [
        "y_pred_prob = nn_model.predict(x_test)"
      ]
    },
    {
      "cell_type": "code",
      "execution_count": null,
      "metadata": {
        "id": "MorWSF92XfQv",
        "outputId": "2d8abc46-bc42-49af-a33f-f3bede148296"
      },
      "outputs": [
        {
          "data": {
            "text/plain": [
              "array([[0.04529426],\n",
              "       [0.01198703],\n",
              "       [0.11762998],\n",
              "       ...,\n",
              "       [0.6304898 ],\n",
              "       [0.18124652],\n",
              "       [0.4753833 ]], dtype=float32)"
            ]
          },
          "execution_count": 145,
          "metadata": {},
          "output_type": "execute_result"
        }
      ],
      "source": [
        "y_pred_prob"
      ]
    },
    {
      "cell_type": "code",
      "execution_count": null,
      "metadata": {
        "id": "xDrFpUv6XfQw",
        "outputId": "3c8fed31-6e0c-4c13-a11c-d59821fe1fc7"
      },
      "outputs": [
        {
          "data": {
            "text/plain": [
              "array([[False],\n",
              "       [False],\n",
              "       [False],\n",
              "       ...,\n",
              "       [ True],\n",
              "       [False],\n",
              "       [False]])"
            ]
          },
          "execution_count": 146,
          "metadata": {},
          "output_type": "execute_result"
        }
      ],
      "source": [
        "y_pred_prob > 0.5"
      ]
    },
    {
      "cell_type": "code",
      "execution_count": null,
      "metadata": {
        "id": "z0ZC5a3IXfQw"
      },
      "outputs": [],
      "source": [
        "y_pred = nn_model.predict_classes(x_test)"
      ]
    },
    {
      "cell_type": "code",
      "execution_count": null,
      "metadata": {
        "id": "YdSsbjF4XfQw",
        "outputId": "4d1bb6e7-3d82-413c-e83a-d39f7e848300"
      },
      "outputs": [
        {
          "data": {
            "text/plain": [
              "array([[0],\n",
              "       [0],\n",
              "       [0],\n",
              "       ...,\n",
              "       [1],\n",
              "       [0],\n",
              "       [0]])"
            ]
          },
          "execution_count": 148,
          "metadata": {},
          "output_type": "execute_result"
        }
      ],
      "source": [
        "y_pred"
      ]
    },
    {
      "cell_type": "code",
      "execution_count": null,
      "metadata": {
        "id": "3mlY3G4oXfQw",
        "outputId": "8f6f4365-2f9c-4a54-b3b7-ffa34a2a3039"
      },
      "outputs": [
        {
          "data": {
            "text/plain": [
              "6252    0\n",
              "4684    0\n",
              "1731    0\n",
              "4742    0\n",
              "4521    0\n",
              "       ..\n",
              "6412    1\n",
              "8285    0\n",
              "7853    1\n",
              "1095    1\n",
              "6929    1\n",
              "Name: Exited, Length: 2000, dtype: int64"
            ]
          },
          "execution_count": 149,
          "metadata": {},
          "output_type": "execute_result"
        }
      ],
      "source": [
        "y_test"
      ]
    },
    {
      "cell_type": "code",
      "execution_count": null,
      "metadata": {
        "id": "U0KxBgpLXfQw"
      },
      "outputs": [],
      "source": [
        "from sklearn.metrics import accuracy_score,confusion_matrix"
      ]
    },
    {
      "cell_type": "code",
      "execution_count": null,
      "metadata": {
        "id": "bzA_rMHiXfQw",
        "outputId": "6c586bb9-0b53-4dcb-a1ec-76eb787b6e30"
      },
      "outputs": [
        {
          "name": "stdout",
          "output_type": "stream",
          "text": [
            "Test Accuracy score:: 0.861\n"
          ]
        }
      ],
      "source": [
        "print(\"Test Accuracy score::\",accuracy_score(y_test,y_pred))"
      ]
    },
    {
      "cell_type": "code",
      "execution_count": null,
      "metadata": {
        "id": "6uwYqNeTXfQx",
        "outputId": "9461293c-f6bd-4563-a3c9-92c932896dea"
      },
      "outputs": [
        {
          "data": {
            "text/plain": [
              "array([[1524,   83],\n",
              "       [ 195,  198]], dtype=int64)"
            ]
          },
          "execution_count": 152,
          "metadata": {},
          "output_type": "execute_result"
        }
      ],
      "source": [
        "confusion_matrix(y_test,y_pred)"
      ]
    },
    {
      "cell_type": "code",
      "execution_count": null,
      "metadata": {
        "id": "CSDOUEydXfQx"
      },
      "outputs": [],
      "source": [
        "from mlxtend.plotting import plot_confusion_matrix"
      ]
    },
    {
      "cell_type": "code",
      "execution_count": null,
      "metadata": {
        "id": "VhT4VW-oXfQx",
        "outputId": "0ebdb122-a8f2-4862-c086-19eeb7ea0a4e"
      },
      "outputs": [
        {
          "data": {
            "text/plain": [
              "(<Figure size 432x288 with 1 Axes>,\n",
              " <matplotlib.axes._subplots.AxesSubplot at 0x20d4c522988>)"
            ]
          },
          "execution_count": 67,
          "metadata": {},
          "output_type": "execute_result"
        },
        {
          "data": {
            "image/png": "[encoded data removed]",
            "text/plain": [
              "<Figure size 432x288 with 1 Axes>"
            ]
          },
          "metadata": {
            "needs_background": "light"
          },
          "output_type": "display_data"
        }
      ],
      "source": [
        "plot_confusion_matrix(confusion_matrix(y_test,y_pred))"
      ]
    },
    {
      "cell_type": "markdown",
      "metadata": {
        "id": "c6AxS6DiXfQx"
      },
      "source": [
        "### Real time prediction"
      ]
    },
    {
      "cell_type": "code",
      "execution_count": null,
      "metadata": {
        "id": "b8yVAqTcXfQx"
      },
      "outputs": [],
      "source": [
        "customer_data = list(x.iloc[200,:])"
      ]
    },
    {
      "cell_type": "code",
      "execution_count": null,
      "metadata": {
        "id": "rui8XDCnXfQx",
        "outputId": "7da0464a-716a-48be-86c0-a5b2ca3ff57c"
      },
      "outputs": [
        {
          "data": {
            "text/plain": [
              "[850.0, 30.0, 2.0, 141040.01, 1.0, 1.0, 1.0, 5978.2, 0.0, 1.0, 1.0]"
            ]
          },
          "execution_count": 69,
          "metadata": {},
          "output_type": "execute_result"
        }
      ],
      "source": [
        "customer_data \n"
      ]
    },
    {
      "cell_type": "code",
      "execution_count": null,
      "metadata": {
        "id": "jQDv1q-2XfQx"
      },
      "outputs": [],
      "source": [
        "customer_data = np.array([customer_data])"
      ]
    },
    {
      "cell_type": "code",
      "execution_count": null,
      "metadata": {
        "scrolled": true,
        "id": "3W1b_QbCXfQy",
        "outputId": "9a2feca0-9bec-4db8-c085-e74f2554dcf9"
      },
      "outputs": [
        {
          "data": {
            "text/plain": [
              "array([[8.5000000e+02, 3.0000000e+01, 2.0000000e+00, 1.4104001e+05,\n",
              "        1.0000000e+00, 1.0000000e+00, 1.0000000e+00, 5.9782000e+03,\n",
              "        0.0000000e+00, 1.0000000e+00, 1.0000000e+00]])"
            ]
          },
          "execution_count": 71,
          "metadata": {},
          "output_type": "execute_result"
        }
      ],
      "source": [
        "customer_data"
      ]
    },
    {
      "cell_type": "code",
      "execution_count": null,
      "metadata": {
        "id": "o2eikpjCXfQy"
      },
      "outputs": [],
      "source": [
        "customer_data = sc.transform(customer_data)"
      ]
    },
    {
      "cell_type": "code",
      "execution_count": null,
      "metadata": {
        "id": "I8A6kXOlXfQy",
        "outputId": "4f62cdc8-79f6-44f7-d53c-8b5e879fb24c"
      },
      "outputs": [
        {
          "data": {
            "text/plain": [
              "array([[ 2.0584476 , -0.84593077, -1.04241787,  1.03971956, -0.91668767,\n",
              "         0.64920267,  0.97481699, -1.64222473, -0.57946723,  1.73494238,\n",
              "         0.91324755]])"
            ]
          },
          "execution_count": 73,
          "metadata": {},
          "output_type": "execute_result"
        }
      ],
      "source": [
        "customer_data"
      ]
    },
    {
      "cell_type": "code",
      "execution_count": null,
      "metadata": {
        "scrolled": true,
        "id": "ZBDeKEKCXfQy",
        "outputId": "3beabb2b-d16a-45bd-80d5-2f34116d3527"
      },
      "outputs": [
        {
          "data": {
            "text/plain": [
              "array([[0.02705321]], dtype=float32)"
            ]
          },
          "execution_count": 74,
          "metadata": {},
          "output_type": "execute_result"
        }
      ],
      "source": [
        "nn_model.predict(customer_data)"
      ]
    },
    {
      "cell_type": "markdown",
      "metadata": {
        "id": "9JlW7YlVXfQy"
      },
      "source": [
        "### Save NN Model"
      ]
    },
    {
      "cell_type": "code",
      "execution_count": null,
      "metadata": {
        "id": "ZWK38Sg2XfQy"
      },
      "outputs": [],
      "source": [
        "nn_model.save(\"customer_churn.h5\")"
      ]
    },
    {
      "cell_type": "markdown",
      "metadata": {
        "id": "T_Mf2EXvXfQy"
      },
      "source": [
        "### Save the scaler object"
      ]
    },
    {
      "cell_type": "code",
      "execution_count": null,
      "metadata": {
        "id": "fM3Q-OPJXfQz"
      },
      "outputs": [],
      "source": [
        "import joblib"
      ]
    },
    {
      "cell_type": "code",
      "execution_count": null,
      "metadata": {
        "id": "3lpkPQolXfQz",
        "outputId": "bcb9b8ff-b722-4a91-bd37-f7950d830efd"
      },
      "outputs": [
        {
          "data": {
            "text/plain": [
              "['scaler_churn.pkl']"
            ]
          },
          "execution_count": 77,
          "metadata": {},
          "output_type": "execute_result"
        }
      ],
      "source": [
        "joblib.dump(sc,\"scaler_churn.pkl\")"
      ]
    }
  ],
  "metadata": {
    "kernelspec": {
      "display_name": "Python 3",
      "language": "python",
      "name": "python3"
    },
    "language_info": {
      "codemirror_mode": {
        "name": "ipython",
        "version": 3
      },
      "file_extension": ".py",
      "mimetype": "text/x-python",
      "name": "python",
      "nbconvert_exporter": "python",
      "pygments_lexer": "ipython3",
      "version": "3.7.4"
    },
    "colab": {
      "provenance": []
    }
  },
  "nbformat": 4,
  "nbformat_minor": 0
}