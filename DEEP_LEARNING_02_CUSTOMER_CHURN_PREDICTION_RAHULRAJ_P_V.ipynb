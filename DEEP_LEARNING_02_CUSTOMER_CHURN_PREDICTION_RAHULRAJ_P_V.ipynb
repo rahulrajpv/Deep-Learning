{
  "cells": [
    {
      "cell_type": "markdown",
      "source": [
        "### **What is Churn Rate?**"
      ],
      "metadata": {
        "id": "0dJq3hnXg3wP"
      }
    },
    {
      "cell_type": "markdown",
      "source": [
        "Churn rate (sometimes called attrition rate), in its broadest sense, is a measure of the number of individuals or items moving out of a collective group over a specific period. It is one of two primary factors that determine the steady-state level of customers a business will support."
      ],
      "metadata": {
        "id": "Fq_kyjS4g6t7"
      }
    },
    {
      "cell_type": "markdown",
      "source": [
        "**Customer Churn**\n",
        "\n",
        "It is when an existing customer, user, subscriber, or any kind of return client stops doing business or ends the relationship with a company."
      ],
      "metadata": {
        "id": "tYgOihRBh5WE"
      }
    },
    {
      "cell_type": "markdown",
      "source": [
        "### **Types of Customer Churn –**"
      ],
      "metadata": {
        "id": "8SuRvWOqh80P"
      }
    },
    {
      "cell_type": "markdown",
      "source": [
        "1. Contractual Churn : When a customer is under a contract for a service and decides to cancel the service e.g. Cable TV, SaaS.\n",
        "\n",
        "2. Voluntary Churn : When a user voluntarily cancels a service e.g. Cellular connection.\n",
        "\n",
        "3. Non-Contractual Churn : When a customer is not under a contract for a service and decides to cancel the service e.g. Consumer Loyalty in retail stores.\n",
        "\n",
        "4. Involuntary Churn : When a churn occurs without any request of the customer e.g. Credit card expiration.\n"
      ],
      "metadata": {
        "id": "k70uPDmAiAL-"
      }
    },
    {
      "cell_type": "markdown",
      "source": [
        "**Reasons for Voluntary Churn**\n",
        "\n",
        "* Lack of usage\n",
        "* Poor service\n",
        "* Better price"
      ],
      "metadata": {
        "id": "TI0rg5SaiL31"
      }
    },
    {
      "cell_type": "markdown",
      "source": [
        "### **Part 1 — Data Preprocessing**"
      ],
      "metadata": {
        "id": "t8iCmSKUg9bB"
      }
    },
    {
      "cell_type": "markdown",
      "source": [
        "**IMPORTING LIBRARIES**"
      ],
      "metadata": {
        "id": "PuBEnwzKhDIH"
      }
    },
    {
      "cell_type": "code",
      "execution_count": null,
      "metadata": {
        "id": "PwbQ5PinXf8V"
      },
      "outputs": [],
      "source": [
        "from tensorflow.keras.models import load_model"
      ]
    },
    {
      "cell_type": "code",
      "execution_count": null,
      "metadata": {
        "id": "s31zLN0JXf8W"
      },
      "outputs": [],
      "source": [
        "import numpy as np"
      ]
    },
    {
      "cell_type": "code",
      "execution_count": null,
      "metadata": {
        "id": "3KmTNHzWXf8X"
      },
      "outputs": [],
      "source": [
        "import joblib"
      ]
    },
    {
      "cell_type": "markdown",
      "source": [
        "### **LOADING MODEL**"
      ],
      "metadata": {
        "id": "JLQ-1JPVhPlE"
      }
    },
    {
      "cell_type": "code",
      "source": [
        "nn_model = load_model(\"customer_churn.h5\")"
      ],
      "metadata": {
        "id": "lVRx2r9ShjIo"
      },
      "execution_count": null,
      "outputs": []
    },
    {
      "cell_type": "code",
      "source": [
        "nn_model"
      ],
      "metadata": {
        "id": "grnb7EkghkVk"
      },
      "execution_count": null,
      "outputs": []
    },
    {
      "cell_type": "markdown",
      "source": [
        "### **CUSTOMER DATA**"
      ],
      "metadata": {
        "id": "mYzKY6Dzhu8T"
      }
    },
    {
      "cell_type": "code",
      "execution_count": null,
      "metadata": {
        "id": "QjH6Wz1zXf8X"
      },
      "outputs": [],
      "source": [
        "customer_data = [850.0, 30.0, 2.0, 141040.01, 1.0, 1.0, 1.0, 5978.2, 0.0, 1.0, 1.0]"
      ]
    },
    {
      "cell_type": "code",
      "execution_count": null,
      "metadata": {
        "id": "vRQRREK2Xf8Y"
      },
      "outputs": [],
      "source": [
        "customer_data = np.array([customer_data])"
      ]
    },
    {
      "cell_type": "code",
      "execution_count": null,
      "metadata": {
        "id": "q8hN7acRXf8Y",
        "outputId": "b2bd90b1-f182-41e4-f768-290f7e91ec3b",
        "colab": {
          "base_uri": "https://localhost:8080/"
        }
      },
      "outputs": [
        {
          "output_type": "execute_result",
          "data": {
            "text/plain": [
              "array([[8.5000000e+02, 3.0000000e+01, 2.0000000e+00, 1.4104001e+05,\n",
              "        1.0000000e+00, 1.0000000e+00, 1.0000000e+00, 5.9782000e+03,\n",
              "        0.0000000e+00, 1.0000000e+00, 1.0000000e+00]])"
            ]
          },
          "metadata": {},
          "execution_count": 7
        }
      ],
      "source": [
        "customer_data "
      ]
    },
    {
      "cell_type": "code",
      "source": [
        "sc = joblib.load(\"scaler_churn.pkl\")"
      ],
      "metadata": {
        "id": "7aMzdNLChpvg"
      },
      "execution_count": null,
      "outputs": []
    },
    {
      "cell_type": "code",
      "execution_count": null,
      "metadata": {
        "id": "SPr-a2qqXf8Y",
        "outputId": "a3d79707-61f8-4386-d2e9-2b6165a055c1"
      },
      "outputs": [
        {
          "data": {
            "text/plain": [
              "StandardScaler()"
            ]
          },
          "execution_count": 10,
          "metadata": {},
          "output_type": "execute_result"
        }
      ],
      "source": [
        "sc"
      ]
    },
    {
      "cell_type": "code",
      "execution_count": null,
      "metadata": {
        "id": "FMpoG7EGXf8Z"
      },
      "outputs": [],
      "source": [
        "customer_data = sc.transform(customer_data)"
      ]
    },
    {
      "cell_type": "code",
      "execution_count": null,
      "metadata": {
        "id": "dmKutxCoXf8Z",
        "outputId": "3122c855-2e57-408f-c9a1-647e9dafb959"
      },
      "outputs": [
        {
          "data": {
            "text/plain": [
              "array([[ 2.0584476 , -0.84593077, -1.04241787,  1.03971956, -0.91668767,\n",
              "         0.64920267,  0.97481699, -1.64222473, -0.57946723,  1.73494238,\n",
              "         0.91324755]])"
            ]
          },
          "execution_count": 12,
          "metadata": {},
          "output_type": "execute_result"
        }
      ],
      "source": [
        "customer_data"
      ]
    },
    {
      "cell_type": "markdown",
      "source": [
        "### **Making Predictions**"
      ],
      "metadata": {
        "id": "TWkYXUzbiZsG"
      }
    },
    {
      "cell_type": "code",
      "execution_count": null,
      "metadata": {
        "id": "67_t5rlIXf8Z",
        "outputId": "638a938e-50ec-40f6-d952-c6389a60653e"
      },
      "outputs": [
        {
          "data": {
            "text/plain": [
              "array([[0.03829369]], dtype=float32)"
            ]
          },
          "execution_count": 13,
          "metadata": {},
          "output_type": "execute_result"
        }
      ],
      "source": [
        "nn_model.predict(customer_data)"
      ]
    },
    {
      "cell_type": "markdown",
      "source": [
        "### **Conclusion**"
      ],
      "metadata": {
        "id": "06iLnL9Ai6Qq"
      }
    },
    {
      "cell_type": "markdown",
      "source": [
        "Customer churn prediction is crucial to the long-term financial stability of a company. "
      ],
      "metadata": {
        "id": "L5msqPkqi8sN"
      }
    }
  ],
  "metadata": {
    "kernelspec": {
      "display_name": "Python 3",
      "language": "python",
      "name": "python3"
    },
    "language_info": {
      "codemirror_mode": {
        "name": "ipython",
        "version": 3
      },
      "file_extension": ".py",
      "mimetype": "text/x-python",
      "name": "python",
      "nbconvert_exporter": "python",
      "pygments_lexer": "ipython3",
      "version": "3.7.4"
    },
    "colab": {
      "provenance": []
    }
  },
  "nbformat": 4,
  "nbformat_minor": 0
}